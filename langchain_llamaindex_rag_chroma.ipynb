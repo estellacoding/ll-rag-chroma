{
  "nbformat": 4,
  "nbformat_minor": 0,
  "metadata": {
    "colab": {
      "provenance": [],
      "toc_visible": true,
      "authorship_tag": "ABX9TyNF9igQ7CovqDB8E8qt2uKP",
      "include_colab_link": true
    },
    "kernelspec": {
      "name": "python3",
      "display_name": "Python 3"
    },
    "language_info": {
      "name": "python"
    },
    "widgets": {
      "application/vnd.jupyter.widget-state+json": {
        "ea19a55bde2d4e559007adda31d2e7e0": {
          "model_module": "@jupyter-widgets/controls",
          "model_name": "HBoxModel",
          "model_module_version": "1.5.0",
          "state": {
            "_dom_classes": [],
            "_model_module": "@jupyter-widgets/controls",
            "_model_module_version": "1.5.0",
            "_model_name": "HBoxModel",
            "_view_count": null,
            "_view_module": "@jupyter-widgets/controls",
            "_view_module_version": "1.5.0",
            "_view_name": "HBoxView",
            "box_style": "",
            "children": [
              "IPY_MODEL_c18cea46b84d4152b664cc627758d38b",
              "IPY_MODEL_0f6ca72b32004540bc184286b46b043f",
              "IPY_MODEL_1b40ec15c5c94db68516ec07e893e926"
            ],
            "layout": "IPY_MODEL_21c1c300c91549d28afd48940c49553b"
          }
        },
        "c18cea46b84d4152b664cc627758d38b": {
          "model_module": "@jupyter-widgets/controls",
          "model_name": "HTMLModel",
          "model_module_version": "1.5.0",
          "state": {
            "_dom_classes": [],
            "_model_module": "@jupyter-widgets/controls",
            "_model_module_version": "1.5.0",
            "_model_name": "HTMLModel",
            "_view_count": null,
            "_view_module": "@jupyter-widgets/controls",
            "_view_module_version": "1.5.0",
            "_view_name": "HTMLView",
            "description": "",
            "description_tooltip": null,
            "layout": "IPY_MODEL_cd4340ae89ed4a3bb3160b5d247e6d07",
            "placeholder": "​",
            "style": "IPY_MODEL_9c1be9e3b0d1431a86e7c71c89a11f87",
            "value": "Parsing nodes: 100%"
          }
        },
        "0f6ca72b32004540bc184286b46b043f": {
          "model_module": "@jupyter-widgets/controls",
          "model_name": "FloatProgressModel",
          "model_module_version": "1.5.0",
          "state": {
            "_dom_classes": [],
            "_model_module": "@jupyter-widgets/controls",
            "_model_module_version": "1.5.0",
            "_model_name": "FloatProgressModel",
            "_view_count": null,
            "_view_module": "@jupyter-widgets/controls",
            "_view_module_version": "1.5.0",
            "_view_name": "ProgressView",
            "bar_style": "success",
            "description": "",
            "description_tooltip": null,
            "layout": "IPY_MODEL_aa6de17b412046de8a5e182dd42b71fb",
            "max": 29,
            "min": 0,
            "orientation": "horizontal",
            "style": "IPY_MODEL_c9e296ecbd8a4315815aedf089066bf5",
            "value": 29
          }
        },
        "1b40ec15c5c94db68516ec07e893e926": {
          "model_module": "@jupyter-widgets/controls",
          "model_name": "HTMLModel",
          "model_module_version": "1.5.0",
          "state": {
            "_dom_classes": [],
            "_model_module": "@jupyter-widgets/controls",
            "_model_module_version": "1.5.0",
            "_model_name": "HTMLModel",
            "_view_count": null,
            "_view_module": "@jupyter-widgets/controls",
            "_view_module_version": "1.5.0",
            "_view_name": "HTMLView",
            "description": "",
            "description_tooltip": null,
            "layout": "IPY_MODEL_8b30518938d147188739a49229a3f2ad",
            "placeholder": "​",
            "style": "IPY_MODEL_92ded31cd0714f708ba69484436030e1",
            "value": " 29/29 [00:00&lt;00:00, 397.03it/s]"
          }
        },
        "21c1c300c91549d28afd48940c49553b": {
          "model_module": "@jupyter-widgets/base",
          "model_name": "LayoutModel",
          "model_module_version": "1.2.0",
          "state": {
            "_model_module": "@jupyter-widgets/base",
            "_model_module_version": "1.2.0",
            "_model_name": "LayoutModel",
            "_view_count": null,
            "_view_module": "@jupyter-widgets/base",
            "_view_module_version": "1.2.0",
            "_view_name": "LayoutView",
            "align_content": null,
            "align_items": null,
            "align_self": null,
            "border": null,
            "bottom": null,
            "display": null,
            "flex": null,
            "flex_flow": null,
            "grid_area": null,
            "grid_auto_columns": null,
            "grid_auto_flow": null,
            "grid_auto_rows": null,
            "grid_column": null,
            "grid_gap": null,
            "grid_row": null,
            "grid_template_areas": null,
            "grid_template_columns": null,
            "grid_template_rows": null,
            "height": null,
            "justify_content": null,
            "justify_items": null,
            "left": null,
            "margin": null,
            "max_height": null,
            "max_width": null,
            "min_height": null,
            "min_width": null,
            "object_fit": null,
            "object_position": null,
            "order": null,
            "overflow": null,
            "overflow_x": null,
            "overflow_y": null,
            "padding": null,
            "right": null,
            "top": null,
            "visibility": null,
            "width": null
          }
        },
        "cd4340ae89ed4a3bb3160b5d247e6d07": {
          "model_module": "@jupyter-widgets/base",
          "model_name": "LayoutModel",
          "model_module_version": "1.2.0",
          "state": {
            "_model_module": "@jupyter-widgets/base",
            "_model_module_version": "1.2.0",
            "_model_name": "LayoutModel",
            "_view_count": null,
            "_view_module": "@jupyter-widgets/base",
            "_view_module_version": "1.2.0",
            "_view_name": "LayoutView",
            "align_content": null,
            "align_items": null,
            "align_self": null,
            "border": null,
            "bottom": null,
            "display": null,
            "flex": null,
            "flex_flow": null,
            "grid_area": null,
            "grid_auto_columns": null,
            "grid_auto_flow": null,
            "grid_auto_rows": null,
            "grid_column": null,
            "grid_gap": null,
            "grid_row": null,
            "grid_template_areas": null,
            "grid_template_columns": null,
            "grid_template_rows": null,
            "height": null,
            "justify_content": null,
            "justify_items": null,
            "left": null,
            "margin": null,
            "max_height": null,
            "max_width": null,
            "min_height": null,
            "min_width": null,
            "object_fit": null,
            "object_position": null,
            "order": null,
            "overflow": null,
            "overflow_x": null,
            "overflow_y": null,
            "padding": null,
            "right": null,
            "top": null,
            "visibility": null,
            "width": null
          }
        },
        "9c1be9e3b0d1431a86e7c71c89a11f87": {
          "model_module": "@jupyter-widgets/controls",
          "model_name": "DescriptionStyleModel",
          "model_module_version": "1.5.0",
          "state": {
            "_model_module": "@jupyter-widgets/controls",
            "_model_module_version": "1.5.0",
            "_model_name": "DescriptionStyleModel",
            "_view_count": null,
            "_view_module": "@jupyter-widgets/base",
            "_view_module_version": "1.2.0",
            "_view_name": "StyleView",
            "description_width": ""
          }
        },
        "aa6de17b412046de8a5e182dd42b71fb": {
          "model_module": "@jupyter-widgets/base",
          "model_name": "LayoutModel",
          "model_module_version": "1.2.0",
          "state": {
            "_model_module": "@jupyter-widgets/base",
            "_model_module_version": "1.2.0",
            "_model_name": "LayoutModel",
            "_view_count": null,
            "_view_module": "@jupyter-widgets/base",
            "_view_module_version": "1.2.0",
            "_view_name": "LayoutView",
            "align_content": null,
            "align_items": null,
            "align_self": null,
            "border": null,
            "bottom": null,
            "display": null,
            "flex": null,
            "flex_flow": null,
            "grid_area": null,
            "grid_auto_columns": null,
            "grid_auto_flow": null,
            "grid_auto_rows": null,
            "grid_column": null,
            "grid_gap": null,
            "grid_row": null,
            "grid_template_areas": null,
            "grid_template_columns": null,
            "grid_template_rows": null,
            "height": null,
            "justify_content": null,
            "justify_items": null,
            "left": null,
            "margin": null,
            "max_height": null,
            "max_width": null,
            "min_height": null,
            "min_width": null,
            "object_fit": null,
            "object_position": null,
            "order": null,
            "overflow": null,
            "overflow_x": null,
            "overflow_y": null,
            "padding": null,
            "right": null,
            "top": null,
            "visibility": null,
            "width": null
          }
        },
        "c9e296ecbd8a4315815aedf089066bf5": {
          "model_module": "@jupyter-widgets/controls",
          "model_name": "ProgressStyleModel",
          "model_module_version": "1.5.0",
          "state": {
            "_model_module": "@jupyter-widgets/controls",
            "_model_module_version": "1.5.0",
            "_model_name": "ProgressStyleModel",
            "_view_count": null,
            "_view_module": "@jupyter-widgets/base",
            "_view_module_version": "1.2.0",
            "_view_name": "StyleView",
            "bar_color": null,
            "description_width": ""
          }
        },
        "8b30518938d147188739a49229a3f2ad": {
          "model_module": "@jupyter-widgets/base",
          "model_name": "LayoutModel",
          "model_module_version": "1.2.0",
          "state": {
            "_model_module": "@jupyter-widgets/base",
            "_model_module_version": "1.2.0",
            "_model_name": "LayoutModel",
            "_view_count": null,
            "_view_module": "@jupyter-widgets/base",
            "_view_module_version": "1.2.0",
            "_view_name": "LayoutView",
            "align_content": null,
            "align_items": null,
            "align_self": null,
            "border": null,
            "bottom": null,
            "display": null,
            "flex": null,
            "flex_flow": null,
            "grid_area": null,
            "grid_auto_columns": null,
            "grid_auto_flow": null,
            "grid_auto_rows": null,
            "grid_column": null,
            "grid_gap": null,
            "grid_row": null,
            "grid_template_areas": null,
            "grid_template_columns": null,
            "grid_template_rows": null,
            "height": null,
            "justify_content": null,
            "justify_items": null,
            "left": null,
            "margin": null,
            "max_height": null,
            "max_width": null,
            "min_height": null,
            "min_width": null,
            "object_fit": null,
            "object_position": null,
            "order": null,
            "overflow": null,
            "overflow_x": null,
            "overflow_y": null,
            "padding": null,
            "right": null,
            "top": null,
            "visibility": null,
            "width": null
          }
        },
        "92ded31cd0714f708ba69484436030e1": {
          "model_module": "@jupyter-widgets/controls",
          "model_name": "DescriptionStyleModel",
          "model_module_version": "1.5.0",
          "state": {
            "_model_module": "@jupyter-widgets/controls",
            "_model_module_version": "1.5.0",
            "_model_name": "DescriptionStyleModel",
            "_view_count": null,
            "_view_module": "@jupyter-widgets/base",
            "_view_module_version": "1.2.0",
            "_view_name": "StyleView",
            "description_width": ""
          }
        },
        "a421e770516d4116837b55400a75fc26": {
          "model_module": "@jupyter-widgets/controls",
          "model_name": "HBoxModel",
          "model_module_version": "1.5.0",
          "state": {
            "_dom_classes": [],
            "_model_module": "@jupyter-widgets/controls",
            "_model_module_version": "1.5.0",
            "_model_name": "HBoxModel",
            "_view_count": null,
            "_view_module": "@jupyter-widgets/controls",
            "_view_module_version": "1.5.0",
            "_view_name": "HBoxView",
            "box_style": "",
            "children": [
              "IPY_MODEL_9323803503cc4372a15f1dee3cb016e4",
              "IPY_MODEL_c0706365ff284e9c8853924f8b9700d0",
              "IPY_MODEL_2e33c50b02f34576b22d7ed7b11543f1"
            ],
            "layout": "IPY_MODEL_f254363dd5fd4151ace1f4aead07d074"
          }
        },
        "9323803503cc4372a15f1dee3cb016e4": {
          "model_module": "@jupyter-widgets/controls",
          "model_name": "HTMLModel",
          "model_module_version": "1.5.0",
          "state": {
            "_dom_classes": [],
            "_model_module": "@jupyter-widgets/controls",
            "_model_module_version": "1.5.0",
            "_model_name": "HTMLModel",
            "_view_count": null,
            "_view_module": "@jupyter-widgets/controls",
            "_view_module_version": "1.5.0",
            "_view_name": "HTMLView",
            "description": "",
            "description_tooltip": null,
            "layout": "IPY_MODEL_0c83407e6daf4f039a1d56bfb3d7bea5",
            "placeholder": "​",
            "style": "IPY_MODEL_ae62b24cb15e444d8ad509ccaaa623b9",
            "value": "Generating embeddings: 100%"
          }
        },
        "c0706365ff284e9c8853924f8b9700d0": {
          "model_module": "@jupyter-widgets/controls",
          "model_name": "FloatProgressModel",
          "model_module_version": "1.5.0",
          "state": {
            "_dom_classes": [],
            "_model_module": "@jupyter-widgets/controls",
            "_model_module_version": "1.5.0",
            "_model_name": "FloatProgressModel",
            "_view_count": null,
            "_view_module": "@jupyter-widgets/controls",
            "_view_module_version": "1.5.0",
            "_view_name": "ProgressView",
            "bar_style": "success",
            "description": "",
            "description_tooltip": null,
            "layout": "IPY_MODEL_3d65a92c21c54094a66c6fe34ce224ed",
            "max": 34,
            "min": 0,
            "orientation": "horizontal",
            "style": "IPY_MODEL_b8c74b63116545088b101e7645697c24",
            "value": 34
          }
        },
        "2e33c50b02f34576b22d7ed7b11543f1": {
          "model_module": "@jupyter-widgets/controls",
          "model_name": "HTMLModel",
          "model_module_version": "1.5.0",
          "state": {
            "_dom_classes": [],
            "_model_module": "@jupyter-widgets/controls",
            "_model_module_version": "1.5.0",
            "_model_name": "HTMLModel",
            "_view_count": null,
            "_view_module": "@jupyter-widgets/controls",
            "_view_module_version": "1.5.0",
            "_view_name": "HTMLView",
            "description": "",
            "description_tooltip": null,
            "layout": "IPY_MODEL_75e935c8671c48f8a2977407187a6070",
            "placeholder": "​",
            "style": "IPY_MODEL_6730e32c3d5e479889e5cdb248b90032",
            "value": " 34/34 [00:02&lt;00:00, 17.02it/s]"
          }
        },
        "f254363dd5fd4151ace1f4aead07d074": {
          "model_module": "@jupyter-widgets/base",
          "model_name": "LayoutModel",
          "model_module_version": "1.2.0",
          "state": {
            "_model_module": "@jupyter-widgets/base",
            "_model_module_version": "1.2.0",
            "_model_name": "LayoutModel",
            "_view_count": null,
            "_view_module": "@jupyter-widgets/base",
            "_view_module_version": "1.2.0",
            "_view_name": "LayoutView",
            "align_content": null,
            "align_items": null,
            "align_self": null,
            "border": null,
            "bottom": null,
            "display": null,
            "flex": null,
            "flex_flow": null,
            "grid_area": null,
            "grid_auto_columns": null,
            "grid_auto_flow": null,
            "grid_auto_rows": null,
            "grid_column": null,
            "grid_gap": null,
            "grid_row": null,
            "grid_template_areas": null,
            "grid_template_columns": null,
            "grid_template_rows": null,
            "height": null,
            "justify_content": null,
            "justify_items": null,
            "left": null,
            "margin": null,
            "max_height": null,
            "max_width": null,
            "min_height": null,
            "min_width": null,
            "object_fit": null,
            "object_position": null,
            "order": null,
            "overflow": null,
            "overflow_x": null,
            "overflow_y": null,
            "padding": null,
            "right": null,
            "top": null,
            "visibility": null,
            "width": null
          }
        },
        "0c83407e6daf4f039a1d56bfb3d7bea5": {
          "model_module": "@jupyter-widgets/base",
          "model_name": "LayoutModel",
          "model_module_version": "1.2.0",
          "state": {
            "_model_module": "@jupyter-widgets/base",
            "_model_module_version": "1.2.0",
            "_model_name": "LayoutModel",
            "_view_count": null,
            "_view_module": "@jupyter-widgets/base",
            "_view_module_version": "1.2.0",
            "_view_name": "LayoutView",
            "align_content": null,
            "align_items": null,
            "align_self": null,
            "border": null,
            "bottom": null,
            "display": null,
            "flex": null,
            "flex_flow": null,
            "grid_area": null,
            "grid_auto_columns": null,
            "grid_auto_flow": null,
            "grid_auto_rows": null,
            "grid_column": null,
            "grid_gap": null,
            "grid_row": null,
            "grid_template_areas": null,
            "grid_template_columns": null,
            "grid_template_rows": null,
            "height": null,
            "justify_content": null,
            "justify_items": null,
            "left": null,
            "margin": null,
            "max_height": null,
            "max_width": null,
            "min_height": null,
            "min_width": null,
            "object_fit": null,
            "object_position": null,
            "order": null,
            "overflow": null,
            "overflow_x": null,
            "overflow_y": null,
            "padding": null,
            "right": null,
            "top": null,
            "visibility": null,
            "width": null
          }
        },
        "ae62b24cb15e444d8ad509ccaaa623b9": {
          "model_module": "@jupyter-widgets/controls",
          "model_name": "DescriptionStyleModel",
          "model_module_version": "1.5.0",
          "state": {
            "_model_module": "@jupyter-widgets/controls",
            "_model_module_version": "1.5.0",
            "_model_name": "DescriptionStyleModel",
            "_view_count": null,
            "_view_module": "@jupyter-widgets/base",
            "_view_module_version": "1.2.0",
            "_view_name": "StyleView",
            "description_width": ""
          }
        },
        "3d65a92c21c54094a66c6fe34ce224ed": {
          "model_module": "@jupyter-widgets/base",
          "model_name": "LayoutModel",
          "model_module_version": "1.2.0",
          "state": {
            "_model_module": "@jupyter-widgets/base",
            "_model_module_version": "1.2.0",
            "_model_name": "LayoutModel",
            "_view_count": null,
            "_view_module": "@jupyter-widgets/base",
            "_view_module_version": "1.2.0",
            "_view_name": "LayoutView",
            "align_content": null,
            "align_items": null,
            "align_self": null,
            "border": null,
            "bottom": null,
            "display": null,
            "flex": null,
            "flex_flow": null,
            "grid_area": null,
            "grid_auto_columns": null,
            "grid_auto_flow": null,
            "grid_auto_rows": null,
            "grid_column": null,
            "grid_gap": null,
            "grid_row": null,
            "grid_template_areas": null,
            "grid_template_columns": null,
            "grid_template_rows": null,
            "height": null,
            "justify_content": null,
            "justify_items": null,
            "left": null,
            "margin": null,
            "max_height": null,
            "max_width": null,
            "min_height": null,
            "min_width": null,
            "object_fit": null,
            "object_position": null,
            "order": null,
            "overflow": null,
            "overflow_x": null,
            "overflow_y": null,
            "padding": null,
            "right": null,
            "top": null,
            "visibility": null,
            "width": null
          }
        },
        "b8c74b63116545088b101e7645697c24": {
          "model_module": "@jupyter-widgets/controls",
          "model_name": "ProgressStyleModel",
          "model_module_version": "1.5.0",
          "state": {
            "_model_module": "@jupyter-widgets/controls",
            "_model_module_version": "1.5.0",
            "_model_name": "ProgressStyleModel",
            "_view_count": null,
            "_view_module": "@jupyter-widgets/base",
            "_view_module_version": "1.2.0",
            "_view_name": "StyleView",
            "bar_color": null,
            "description_width": ""
          }
        },
        "75e935c8671c48f8a2977407187a6070": {
          "model_module": "@jupyter-widgets/base",
          "model_name": "LayoutModel",
          "model_module_version": "1.2.0",
          "state": {
            "_model_module": "@jupyter-widgets/base",
            "_model_module_version": "1.2.0",
            "_model_name": "LayoutModel",
            "_view_count": null,
            "_view_module": "@jupyter-widgets/base",
            "_view_module_version": "1.2.0",
            "_view_name": "LayoutView",
            "align_content": null,
            "align_items": null,
            "align_self": null,
            "border": null,
            "bottom": null,
            "display": null,
            "flex": null,
            "flex_flow": null,
            "grid_area": null,
            "grid_auto_columns": null,
            "grid_auto_flow": null,
            "grid_auto_rows": null,
            "grid_column": null,
            "grid_gap": null,
            "grid_row": null,
            "grid_template_areas": null,
            "grid_template_columns": null,
            "grid_template_rows": null,
            "height": null,
            "justify_content": null,
            "justify_items": null,
            "left": null,
            "margin": null,
            "max_height": null,
            "max_width": null,
            "min_height": null,
            "min_width": null,
            "object_fit": null,
            "object_position": null,
            "order": null,
            "overflow": null,
            "overflow_x": null,
            "overflow_y": null,
            "padding": null,
            "right": null,
            "top": null,
            "visibility": null,
            "width": null
          }
        },
        "6730e32c3d5e479889e5cdb248b90032": {
          "model_module": "@jupyter-widgets/controls",
          "model_name": "DescriptionStyleModel",
          "model_module_version": "1.5.0",
          "state": {
            "_model_module": "@jupyter-widgets/controls",
            "_model_module_version": "1.5.0",
            "_model_name": "DescriptionStyleModel",
            "_view_count": null,
            "_view_module": "@jupyter-widgets/base",
            "_view_module_version": "1.2.0",
            "_view_name": "StyleView",
            "description_width": ""
          }
        }
      }
    }
  },
  "cells": [
    {
      "cell_type": "markdown",
      "metadata": {
        "id": "view-in-github",
        "colab_type": "text"
      },
      "source": [
        "<a href=\"https://colab.research.google.com/github/estellacoding/ll-rag-chroma/blob/main/langchain_llamaindex_rag_chroma.ipynb\" target=\"_parent\"><img src=\"https://colab.research.google.com/assets/colab-badge.svg\" alt=\"Open In Colab\"/></a>"
      ]
    },
    {
      "cell_type": "markdown",
      "source": [
        "# LangChain RAG"
      ],
      "metadata": {
        "id": "Q7RwCHFjynb-"
      }
    },
    {
      "cell_type": "markdown",
      "source": [
        "## 安裝套件"
      ],
      "metadata": {
        "id": "EzZYX0-nULBr"
      }
    },
    {
      "cell_type": "code",
      "source": [
        "!pip install pypdf\n",
        "!pip install langchain_community\n",
        "!pip install langchain-openai\n",
        "!pip install langchain-chroma\n",
        "!pip install chromadb\n",
        "!pip install tiktoken"
      ],
      "metadata": {
        "id": "0gpZ6r8RO5iz"
      },
      "execution_count": null,
      "outputs": []
    },
    {
      "cell_type": "markdown",
      "source": [
        "## 下載資料"
      ],
      "metadata": {
        "id": "TDsljl3lOzUL"
      }
    },
    {
      "cell_type": "code",
      "execution_count": 2,
      "metadata": {
        "id": "jHgsj0CQ4JVw",
        "colab": {
          "base_uri": "https://localhost:8080/"
        },
        "outputId": "1c061502-c012-4966-ee4d-17be957d5932"
      },
      "outputs": [
        {
          "output_type": "stream",
          "name": "stdout",
          "text": [
            "--2025-01-15 05:01:36--  https://arxiv.org/pdf/2308.00352\n",
            "Resolving arxiv.org (arxiv.org)... 151.101.3.42, 151.101.67.42, 151.101.195.42, ...\n",
            "Connecting to arxiv.org (arxiv.org)|151.101.3.42|:443... connected.\n",
            "HTTP request sent, awaiting response... 200 OK\n",
            "Length: 16753634 (16M) [application/pdf]\n",
            "Saving to: ‘data/metagpt.pdf’\n",
            "\n",
            "data/metagpt.pdf    100%[===================>]  15.98M  35.9MB/s    in 0.4s    \n",
            "\n",
            "2025-01-15 05:01:37 (35.9 MB/s) - ‘data/metagpt.pdf’ saved [16753634/16753634]\n",
            "\n",
            "data  sample_data\n"
          ]
        }
      ],
      "source": [
        "!mkdir \"data\"\n",
        "!wget \"https://arxiv.org/pdf/2308.00352\" -O data/metagpt.pdf\n",
        "!ls"
      ]
    },
    {
      "cell_type": "markdown",
      "source": [
        "## 載入資料"
      ],
      "metadata": {
        "id": "_aonlUoFPTl_"
      }
    },
    {
      "cell_type": "code",
      "source": [
        "from langchain.document_loaders import PyPDFLoader\n",
        "from langchain.text_splitter import RecursiveCharacterTextSplitter\n",
        "\n",
        "loader = PyPDFLoader(\"./data/metagpt.pdf\")\n",
        "text_splitter = RecursiveCharacterTextSplitter()\n",
        "pages = loader.load_and_split(text_splitter=text_splitter)\n",
        "\n",
        "print(pages[-1].page_content)"
      ],
      "metadata": {
        "id": "qjJcwz4ZNh6D",
        "colab": {
          "base_uri": "https://localhost:8080/"
        },
        "outputId": "827344ea-19c4-4d0e-e97e-79666a9b4817"
      },
      "execution_count": 3,
      "outputs": [
        {
          "output_type": "stream",
          "name": "stdout",
          "text": [
            "Published as a conference paper at ICLR 2024\n",
            "Table 9: Additional results of pure MetaGPT w/o feedback on SoftwareDev. Averages (Avg.) of 70 tasks are calculated and 10 randomly selected tasks are\n",
            "included. ‘#’ denotes ‘The number of’, while ‘ID’ is ‘Task ID’.\n",
            "ID Code statistics Doc statistics Cost statistics Cost of revision Code executability\n",
            "#code files #lines of code #lines per code file #doc files #lines of doc #lines per doc file #prompt tokens #completion tokens time costs money costs\n",
            "0 5.00 196.00 39.20 3.00 210.00 70.00 24087.00 6157.00 582.04 $ 1.09 1. TypeError 4\n",
            "1 6.00 191.00 31.83 3.00 230.00 76.67 32517.00 6238.00 566.30 $ 1.35 1. TypeError 4\n",
            "2 3.00 198.00 66.00 3.00 235.00 78.33 21934.00 6316.00 553.11 $ 1.04 1. lack\n",
            "@app.route(’/’)\n",
            "3\n",
            "3 5.00 164 32.80 3.00 202.00 67.33 22951.00 5312.00 481.34 $ 1.01 1. PNG file miss-\n",
            "ing 2. Compile bug\n",
            "fixes\n",
            "2\n",
            "4 6.00 203.00 33.83 3.00 210.00 70.00 30087.00 6567.00 599.58 $ 1.30 1. PNG file\n",
            "missing 2. Com-\n",
            "pile bug fixes 3.\n",
            "pygame.surface not\n",
            "initialize\n",
            "3\n",
            "5 6.00 219.00 36.50 3.00 294.00 96.00 35590.00 7336.00 585.10 $ 1.51 1. dependency er-\n",
            "ror 2. ModuleNot-\n",
            "FoundError\n",
            "4\n",
            "6 4.00 73.00 18.25 3.00 261.00 87.00 25673.00 5832.00 398.83 $ 0.90 0 4\n",
            "7 4.00 316.00 79.00 3.00 332.00 110.67 29139.00 7104.00 435.83 $ 0.92 0 4\n",
            "8 5.00 215.00 43.00 3.00 301.00 100.33 29372.00 6499.00 621.73 $ 1.27 1. tensorflow ver-\n",
            "sion error 2. model\n",
            "training method not\n",
            "implement\n",
            "2\n",
            "9 5.00 215.00 43.00 3.00 270.00 90.00 24799.00 5734.00 550.88 $ 1.27 1. dependency er-\n",
            "ror 2. URL 403 er-\n",
            "ror\n",
            "3\n",
            "10 3.00 93.00 31.00 3.00 254.00 84.67 24109.00 5363.00 438.50 $ 0.92 1. dependency er-\n",
            "ror 2. missing main\n",
            "func.\n",
            "4\n",
            "Avg. 4.71 191.57 42.98 3.00 240.00 80.00 26626.86 6218.00 516.71 $1.12 0.51 (only consider\n",
            "item scored 2, 3 or\n",
            "4)\n",
            "3.36\n",
            "29\n"
          ]
        }
      ]
    },
    {
      "cell_type": "markdown",
      "source": [
        "## 向量化"
      ],
      "metadata": {
        "id": "LoHxUMONT0Mv"
      }
    },
    {
      "cell_type": "code",
      "source": [
        "# 若資料夾存在則刪除\n",
        "import shutil\n",
        "import os\n",
        "\n",
        "if os.path.exists(\"./vector\"):\n",
        "    shutil.rmtree(\"./vector\")"
      ],
      "metadata": {
        "id": "vYefkNdIPl2a"
      },
      "execution_count": 4,
      "outputs": []
    },
    {
      "cell_type": "code",
      "source": [
        "# 文本 -> 分割/索引 -> 向量化 -> 建立資料庫 -> 儲存\n",
        "from langchain.indexes import VectorstoreIndexCreator\n",
        "from langchain_openai import OpenAIEmbeddings\n",
        "from langchain_chroma import Chroma\n",
        "\n",
        "from google.colab import userdata\n",
        "OPENAI_API_KEY = userdata.get('OPENAI_API_KEY')\n",
        "\n",
        "# 創建向量索引\n",
        "index_creator = VectorstoreIndexCreator(\n",
        "    embedding=OpenAIEmbeddings(api_key=OPENAI_API_KEY),\n",
        "    vectorstore_cls=Chroma, # 設定向量資料庫\n",
        "    vectorstore_kwargs={\"persist_directory\": \"./vector\"}\n",
        ")\n",
        "\n",
        "# 從分割文檔(pages)進行文本分割、向量化及索引並儲存\n",
        "docsearch = index_creator.from_documents(pages)"
      ],
      "metadata": {
        "id": "asF09L1fWYLo"
      },
      "execution_count": 5,
      "outputs": []
    },
    {
      "cell_type": "markdown",
      "source": [
        "## 向量資料庫"
      ],
      "metadata": {
        "id": "GM-37HUYURRv"
      }
    },
    {
      "cell_type": "code",
      "source": [
        "from langchain_chroma import Chroma\n",
        "\n",
        "db = Chroma(embedding_function=OpenAIEmbeddings(api_key=OPENAI_API_KEY), persist_directory='./vector')"
      ],
      "metadata": {
        "id": "JI6EIDKMm15Q"
      },
      "execution_count": 6,
      "outputs": []
    },
    {
      "cell_type": "code",
      "source": [
        "similarity_context = db.similarity_search(\"Describe the five roles in MetaGPT framework\", k=10)\n",
        "\n",
        "# 打印檢索到的相似內容\n",
        "print(\"\\n相似性上下文:\")\n",
        "for i, doc in enumerate(similarity_context, start=1):\n",
        "    print(f\"\\n--- Context {i} ---\")\n",
        "    print(doc.page_content)"
      ],
      "metadata": {
        "colab": {
          "base_uri": "https://localhost:8080/"
        },
        "id": "9cESnqvSkPAQ",
        "outputId": "9ca90065-c23f-4de6-9cb5-b9b3d04064b1"
      },
      "execution_count": 7,
      "outputs": [
        {
          "output_type": "stream",
          "name": "stdout",
          "text": [
            "\n",
            "相似性上下文:\n",
            "\n",
            "--- Context 1 ---\n",
            "software company: Product Manager, Architect, Project Manager, Engineer, and QA Engineer, as\n",
            "shown in Figure 1. In MetaGPT, we specify the agent’s profile, which includes their name, profile,\n",
            "goal, and constraints for each role. We also initialize the specific context and skills for each role.\n",
            "For instance, a Product Manager can use web search tools, while an Engineer can execute code, as\n",
            "shown in Figure 2. All agents adhere to the React-style behavior as described in Yao et al. (2022).\n",
            "Every agent monitors the environment ( i.e., the message pool in MetaGPT) to spot important ob-\n",
            "servations (e.g.,, messages from other agents). These messages can either directly trigger actions or\n",
            "assist in finishing the job.\n",
            "Workflow across Agents By defining the agents’ roles and operational skills, we can establish\n",
            "basic workflows. In our work, we follow SOP in software development, which enables all agents to\n",
            "work in a sequential manner.\n",
            "4\n",
            "\n",
            "--- Context 2 ---\n",
            "Published as a conference paper at ICLR 2024\n",
            "• We introduce MetaGPT, a meta-programming framework for multi-agent collaboration based on\n",
            "LLMs. It is highly convenient and flexible, with well-defined functions like role definition and\n",
            "message sharing, making it a useful platform for developing LLM-based multi-agent systems.\n",
            "• Our innovative integration of human-like SOPs throughout MetaGPT’s design significantly en-\n",
            "hances its robustness, reducing unproductive collaboration among LLM-based agents. Furthermore,\n",
            "we introduce a novel executive feedback mechanism that debugs and executes code during runtime,\n",
            "significantly elevating code generation quality (e.g., 5.4% absolute improvement on MBPP).\n",
            "• We achieve state-of-the-art performance on HumanEval (Chen et al., 2021a) and MBPP (Austin\n",
            "et al., 2021). Extensive results convincingly validate MetaGPT, suggesting that it is a promising\n",
            "meta-programming framework for developing LLM-based multi-agent systems.\n",
            "2 R ELATED WORK\n",
            "\n",
            "--- Context 3 ---\n",
            "system design, code generation, modification, execution, and debugging during runtime, highlight-\n",
            "ing how agent-based techniques can enhance meta-programming.\n",
            "To validate the design of MetaGPT, we use publicly available HumanEval (Chen et al., 2021a) and\n",
            "MBPP (Austin et al., 2021) for evaluations. Notably, in code generation benchmarks, MetaGPT\n",
            "achieves a new state-of-the-art (SoTA) with 85.9% and 87.7% in Pass@1. When compared to other\n",
            "popular frameworks for creating complex software projects, such as AutoGPT (Torantulino et al.,\n",
            "2023), LangChain (Chase, 2022), AgentVerse (Chen et al., 2023), and ChatDev (Qian et al., 2023).\n",
            "MetaGPT also stands out in handling higher levels of software complexity and offering extensive\n",
            "functionality. Remarkably, in our experimental evaluations, MetaGPT achieves a 100% task com-\n",
            "pletion rate, demonstrating the robustness and efficiency (time and token costs) of our design.\n",
            "We summarize our contributions as follows:\n",
            "\n",
            "--- Context 4 ---\n",
            "feasibility (3.67 to 3.75) and reduces the cost of human revisions (2.25 to 0.83). These results\n",
            "illustrate how our designed feedback mechanism can produce higher-quality code. Additional quan-\n",
            "titative results of MetaGPT and MetaGPT without executable feedback are shown in Table 4 and\n",
            "Table 9.\n",
            "5 C ONCLUSION\n",
            "This work introduces MetaGPT, a novel meta-programming framework that leverages SOPs to en-\n",
            "hance the problem-solving capabilities of multi-agent systems based on Large Language Models\n",
            "(LLMs). MetaGPT models a group of agents as a simulated software company, analogous to simu-\n",
            "lated towns (Park et al., 2023) and the Minecraft Sandbox in V oyager (Wang et al., 2023a). MetaGPT\n",
            "leverages role specialization, workflow management, and efficient sharing mechanisms such as mes-\n",
            "sage pools and subscriptions, rendering it a flexible and portable platform for autonomous agents\n",
            "and multi-agent frameworks. It uses an executable feedback mechanism to enhance code generation\n",
            "\n",
            "--- Context 5 ---\n",
            "Published as a conference paper at ICLR 2024\n",
            "Figure 1: The software development SOPs between MetaGPT and real-world human teams.\n",
            "In software engineering, SOPs promote collaboration among various roles. MetaGPT showcases\n",
            "its ability to decompose complex tasks into specific actionable procedures assigned to various roles\n",
            "(e.g., Product Manager, Architect, Engineer, etc.).\n",
            "documents, design artifacts, flowcharts, and interface specifications. The use of intermediate struc-\n",
            "tured outputs significantly increases the success rate of target code generation. Because it helps\n",
            "maintain consistency in communication, minimizing ambiguities and errors during collaboration.\n",
            "More graphically, in a company simulated by MetaGPT, all employees follow a strict and stream-\n",
            "lined workflow, and all their handovers must comply with certain established standards. This reduces\n",
            "the risk of hallucinations caused by idle chatter between LLMs, particularly in role-playing frame-\n",
            "\n",
            "--- Context 6 ---\n",
            "quality during runtime. In extensive experiments, MetaGPT achieves state-of-the-art performance\n",
            "on multiple benchmarks. The successful integration of human-like SOPs inspires future research\n",
            "on human-inspired techniques for artificial multi-agent systems. We also view our work as an early\n",
            "attempt to regulate LLM-based multi-agent frameworks. See also the outlook (Appendix A).\n",
            "9\n",
            "\n",
            "--- Context 7 ---\n",
            "Published as a conference paper at ICLR 2024\n",
            "B A D EMO OF THE EXECUTION\n",
            "In this section, we outline the complete process of software development using MetaGPT. It begins\n",
            "with a user’s input command (as shown in Appendix B.1) and ends with software designed according\n",
            "to the user’s specifications.\n",
            "B.1 U SER INPUT\n",
            "Upon receiving an instruction from the user, MetaGPT collaborates with a professional development\n",
            "team to fulfill the task. Here is a demo of user input:\n",
            "User input\n",
            "1 write a python3 GUI app such that you can draw an image with it\n",
            "B.2 M ETAGPT DEVELOPMENT PROCESS\n",
            "Now we provide a step-by-step explanation of the standardized output process for each agent.\n",
            "Product Manager The Product Manager generates a Product Requirement Document (PRD), as\n",
            "detailed in the specified documentation. This document encompasses goals, user stories, competitive\n",
            "analysis, requirement analysis and requirement pool. Additionally, a competitive quadrant chart is\n",
            "\n",
            "--- Context 8 ---\n",
            "Verse (Chen et al., 2023) display robust general problem-solving capabilities, they lack an essential\n",
            "element for developing complex systems: systematically deconstructing requirements. Conversely,\n",
            "MetaGPT simplifies the process of transforming abstract requirements into detailed class and func-\n",
            "tion designs through a specialized division of labor and SOPs workflow. When compared to Chat-\n",
            "Dev (Zhao et al., 2023), MetaGPT’s structured messaging and feedback mechanisms not only reduce\n",
            "loss of communication information but also improve the execution of code.\n",
            "Quantitative results of MetaGPT w/o executable feedback Table 9 presents the performance of\n",
            "MetaGPT with GPT-4 32K on 11 tasks within the SoftwareDev dataset. It also shows the average\n",
            "performance across all 70 tasks (in the last line). Note that the version of MetaGPT used here is the\n",
            "basic version without the executable feedback mechanism.\n",
            "Quantitative results of MetaGPT with different LLMs To verify the performance of MetaGPT\n",
            "\n",
            "--- Context 9 ---\n",
            "can easily integrate SOP-like designs to improve their performance, similar to injecting chain-of-\n",
            "thought (Wei et al., 2022) in LLMs.\n",
            "4.4 A BLATION STUDY\n",
            "The Effectiveness of Roles To understand the impact of different roles on the final results, we\n",
            "perform two tasks that involve generating effective code and calculating average statistics. When we\n",
            "exclude certain roles, unworkable codes are generated. As indicated by Table 3, the addition of roles\n",
            "different from just the Engineer consistently improves both revisions and executability. While more\n",
            "roles slightly increase the expenses, the overall performance improves noticeably, demonstrating the\n",
            "effectiveness of the various roles.\n",
            "The Effectiveness of Executable Feedback Mechanism As shown in Figure 4, adding executable\n",
            "feedback into MetaGPT leads to a significant improvement of 4.2% and 5.4% in Pass @1on Hu-\n",
            "manEval and MBPP, respectively. Besides, Table 1 shows that the feedback mechanism improves\n",
            "\n",
            "--- Context 10 ---\n",
            "Unemployment and Skill Obsolescence MetaGPT enables more people to program in natural\n",
            "languages, thereby making it easier for engineers to get started. Over the years, programming\n",
            "languages have evolved from punched cards to assembly, C, Java, Python, and now natural lan-\n",
            "guage. As a result, humans have become more proficient at programming, increasing the demand\n",
            "for programming-related positions. Furthermore, programming with natural language may offer a\n",
            "significantly easier learning curve, making programming more accessible to a broader audience.\n",
            "Transparency and Accountability MetaGPT is an open-source framework that facilitates inter-\n",
            "active communication between multiple agents through natural language. Humans can initiate, ob-\n",
            "serve, and stop running with the highest level of control. It provides real-time interpretation and op-\n",
            "eration of the natural language, displayed on the screen and logs, ensuring transparency. MetaGPT\n"
          ]
        }
      ]
    },
    {
      "cell_type": "markdown",
      "source": [
        "## 開啟查詢"
      ],
      "metadata": {
        "id": "GSNpaG2jUUaQ"
      }
    },
    {
      "cell_type": "code",
      "source": [
        "from langchain_openai import ChatOpenAI\n",
        "from langchain_core.prompts import ChatPromptTemplate\n",
        "from langchain.chains.combine_documents import create_stuff_documents_chain\n",
        "from langchain.chains import create_retrieval_chain\n",
        "\n",
        "llm = ChatOpenAI(model=\"gpt-4o-mini\", openai_api_key=OPENAI_API_KEY)\n",
        "\n",
        "# 設置檢索器:檢索最相關的k段內容\n",
        "retriever = db.as_retriever(search_kwargs={\"k\": 5})\n",
        "\n",
        "system_prompt = (\n",
        "    \"你是一個專業的助理，請從給定內容中提取準確答案。\"\n",
        "    \"Context: {context}\"\n",
        ")\n",
        "prompt = ChatPromptTemplate.from_messages(\n",
        "    [\n",
        "        (\"system\", system_prompt),\n",
        "        (\"human\", \"{input}\"),\n",
        "    ]\n",
        ")\n",
        "\n",
        "# 創建處理文檔的鏈條\n",
        "question_answer_chain = create_stuff_documents_chain(llm, prompt)\n",
        "\n",
        "# 創建檢索鏈條\n",
        "chain = create_retrieval_chain(retriever, question_answer_chain)"
      ],
      "metadata": {
        "id": "IpWk_Jpjedf6"
      },
      "execution_count": 8,
      "outputs": []
    },
    {
      "cell_type": "code",
      "source": [
        "result = chain.invoke({\"input\": \"What are the five roles in the MetaGPT framework?\"})\n",
        "result['answer']"
      ],
      "metadata": {
        "colab": {
          "base_uri": "https://localhost:8080/",
          "height": 52
        },
        "id": "KXrFgN-XCnuh",
        "outputId": "541cf271-287e-439f-9f9a-7007b1432c7e"
      },
      "execution_count": 9,
      "outputs": [
        {
          "output_type": "execute_result",
          "data": {
            "text/plain": [
              "'The five roles in the MetaGPT framework are Product Manager, Architect, Project Manager, Engineer, and QA Engineer.'"
            ],
            "application/vnd.google.colaboratory.intrinsic+json": {
              "type": "string"
            }
          },
          "metadata": {},
          "execution_count": 9
        }
      ]
    },
    {
      "cell_type": "code",
      "source": [
        "result = chain.invoke({\"input\": \"Describe the five roles in MetaGPT framework\"})\n",
        "result['answer']"
      ],
      "metadata": {
        "id": "D9Lof1-BVygM",
        "colab": {
          "base_uri": "https://localhost:8080/",
          "height": 191
        },
        "outputId": "65b3aa55-e833-4633-bab1-28c979ccfa3d"
      },
      "execution_count": 10,
      "outputs": [
        {
          "output_type": "execute_result",
          "data": {
            "text/plain": [
              "'The five roles in the MetaGPT framework, as specified, are:\\n\\n1. **Product Manager**: Focuses on overseeing the product lifecycle and ensuring that the product meets the market needs. They can utilize web search tools to gather relevant information.\\n\\n2. **Architect**: Responsible for designing the overall system architecture and ensuring that the software aligns with technical standards and requirements.\\n\\n3. **Project Manager**: Manages project timelines, resources, and coordination among team members to ensure successful project delivery.\\n\\n4. **Engineer**: Engages in the technical development of the software. They have the capability to execute code, which enables them to carry out programming tasks effectively.\\n\\n5. **QA Engineer**: Focuses on quality assurance processes, testing the software to identify bugs or issues, and ensuring that the final product meets quality standards. \\n\\nEach role has specific responsibilities and skills, contributing to the collaborative workflow within the MetaGPT framework for software development.'"
            ],
            "application/vnd.google.colaboratory.intrinsic+json": {
              "type": "string"
            }
          },
          "metadata": {},
          "execution_count": 10
        }
      ]
    },
    {
      "cell_type": "code",
      "source": [
        "result = chain.invoke({\"input\": \"說明 MetaGPT 框架中的五個角色\"})\n",
        "result['answer']"
      ],
      "metadata": {
        "id": "kaKtnIQvacqN",
        "colab": {
          "base_uri": "https://localhost:8080/",
          "height": 104
        },
        "outputId": "2f6d9989-e1f5-403a-95b4-4a2261fa5e10"
      },
      "execution_count": 11,
      "outputs": [
        {
          "output_type": "execute_result",
          "data": {
            "text/plain": [
              "'MetaGPT 框架中的五個角色包括：\\n\\n1. **產品經理 (Product Manager)** - 負責定義產品的需求和方向，並確保產品的成功推出。\\n2. **架構師 (Architect)** - 專注於設計系統的整體架構與技術選型，以確保系統的可擴展性和可靠性。\\n3. **項目經理 (Project Manager)** - 負責管理項目的進度和資源，協調團隊成員之間的合作，確保項目按時完成。\\n4. **工程師 (Engineer)** - 實際編寫代碼並進行系統開發，解決技術問題。\\n5. **質量保證工程師 (QA Engineer)** - 負責測試產品以確保其質量，並檢查系統是否符合需求。'"
            ],
            "application/vnd.google.colaboratory.intrinsic+json": {
              "type": "string"
            }
          },
          "metadata": {},
          "execution_count": 11
        }
      ]
    },
    {
      "cell_type": "markdown",
      "source": [
        "# Llamaindex RAG"
      ],
      "metadata": {
        "id": "h-Y4ncqV1rZ0"
      }
    },
    {
      "cell_type": "markdown",
      "source": [
        "## 安裝套件"
      ],
      "metadata": {
        "id": "WOel5O4E1zmS"
      }
    },
    {
      "cell_type": "code",
      "source": [
        "!pip install llama_index\n",
        "!pip install llama-index-embeddings-openai\n",
        "!pip install llama-index-vector-stores-chroma"
      ],
      "metadata": {
        "id": "y3HOfo0j1xgM"
      },
      "execution_count": null,
      "outputs": []
    },
    {
      "cell_type": "markdown",
      "source": [
        "## 下載資料"
      ],
      "metadata": {
        "id": "27KxTdKZ11s2"
      }
    },
    {
      "cell_type": "code",
      "source": [
        "!mkdir \"data\"\n",
        "!curl -L \"https://arxiv.org/pdf/2308.00352\" -e \"https://arxiv.org/pdf/2308.00352\" -o \"data/metagpt.pdf\"\n",
        "!ls"
      ],
      "metadata": {
        "colab": {
          "base_uri": "https://localhost:8080/"
        },
        "id": "6qefxOnn13LL",
        "outputId": "241d9d7c-60d8-4c29-900f-12e78df292ba"
      },
      "execution_count": 2,
      "outputs": [
        {
          "output_type": "stream",
          "name": "stdout",
          "text": [
            "  % Total    % Received % Xferd  Average Speed   Time    Time     Time  Current\n",
            "                                 Dload  Upload   Total   Spent    Left  Speed\n",
            "100 15.9M  100 15.9M    0     0  25.7M      0 --:--:-- --:--:-- --:--:-- 25.7M\n",
            "data  sample_data\n"
          ]
        }
      ]
    },
    {
      "cell_type": "markdown",
      "source": [
        "## 載入資料"
      ],
      "metadata": {
        "id": "8izrJKry1-83"
      }
    },
    {
      "cell_type": "code",
      "source": [
        "from llama_index.core import SimpleDirectoryReader\n",
        "\n",
        "# 讀取指定資料夾內的所有檔案\n",
        "documents = SimpleDirectoryReader(\"./data\").load_data(show_progress=True)\n",
        "print(\"載入的文件列表:\", documents[-1])"
      ],
      "metadata": {
        "colab": {
          "base_uri": "https://localhost:8080/"
        },
        "id": "1kaakNtf2IkN",
        "outputId": "863d1a19-ef75-4e93-a804-0d2b8177cd3f"
      },
      "execution_count": 3,
      "outputs": [
        {
          "output_type": "stream",
          "name": "stderr",
          "text": [
            "Loading files: 100%|██████████| 1/1 [00:01<00:00,  1.20s/file]"
          ]
        },
        {
          "output_type": "stream",
          "name": "stdout",
          "text": [
            "載入的文件列表: Doc ID: dfd9ad1a-813a-46c9-8e29-1bf670af3b45\n",
            "Text: Published as a conference paper at ICLR 2024 Table 9: Additional\n",
            "results of pure MetaGPT w/o feedback on SoftwareDev. Averages (Avg.)\n",
            "of 70 tasks are calculated and 10 randomly selected tasks are\n",
            "included. ‘#’ denotes ‘The number of’, while ‘ID’ is ‘Task ID’. ID\n",
            "Code statistics Doc statistics Cost statistics Cost of revision Code\n",
            "executability #...\n"
          ]
        },
        {
          "output_type": "stream",
          "name": "stderr",
          "text": [
            "\n"
          ]
        }
      ]
    },
    {
      "cell_type": "markdown",
      "source": [
        "## 向量化"
      ],
      "metadata": {
        "id": "upKpJWdH2I0C"
      }
    },
    {
      "cell_type": "code",
      "source": [
        "# 若資料夾存在則刪除\n",
        "import shutil\n",
        "import os\n",
        "\n",
        "if os.path.exists(\"./vector\"):\n",
        "    shutil.rmtree(\"./vector\")"
      ],
      "metadata": {
        "id": "gVoX72C6PyNI"
      },
      "execution_count": 4,
      "outputs": []
    },
    {
      "cell_type": "code",
      "source": [
        "from llama_index.embeddings.openai import OpenAIEmbedding\n",
        "import openai\n",
        "from llama_index.llms.openai import OpenAI\n",
        "from llama_index.core import VectorStoreIndex\n",
        "from llama_index.core import Settings, PromptTemplate\n",
        "from llama_index.vector_stores.chroma import ChromaVectorStore\n",
        "from llama_index.core import StorageContext\n",
        "import chromadb\n",
        "from google.colab import userdata\n",
        "import os\n",
        "\n",
        "openai.api_key = userdata.get(\"OPENAI_API_KEY\")\n",
        "os.environ[\"OPENAI_API_KEY\"] = userdata.get(\"OPENAI_API_KEY\")\n",
        "\n",
        "llm = OpenAI(model=\"gpt-4o-mini\")\n",
        "system_prompt = (\n",
        "    \"你是一個專業的助理，請從給定內容中提取準確答案。\"\n",
        "    \"{context}\"\n",
        ")\n",
        "prompt_template = PromptTemplate(system_prompt)\n",
        "\n",
        "# 設定Chroma向量資料庫\n",
        "db = chromadb.PersistentClient(path=\"./vector\")\n",
        "chroma_collection = db.get_or_create_collection(\"llamaindex_chroma\")\n",
        "vector_store = ChromaVectorStore(chroma_collection=chroma_collection)\n",
        "storage_context = StorageContext.from_defaults(vector_store=vector_store)\n",
        "\n",
        "# 建立向量索引，從文本文件(documents)生成的向量\n",
        "print(\"正在構建向量索引...\")\n",
        "index = VectorStoreIndex.from_documents(\n",
        "    documents, # 自動默認RecursiveTextSplitter切割文本\n",
        "    storage_context=storage_context,\n",
        "    embed_model=OpenAIEmbedding(embed_batch_size=10),\n",
        "    show_progress=True,\n",
        ")\n",
        "print(\"向量索引構建完成。\")\n",
        "\n",
        "# 將索引轉換為查詢引擎\n",
        "query_engine = index.as_query_engine(llm=llm,prompt_template=prompt_template)\n",
        "print(\"查詢引擎建立完成:\", query_engine)"
      ],
      "metadata": {
        "colab": {
          "base_uri": "https://localhost:8080/",
          "height": 153,
          "referenced_widgets": [
            "ea19a55bde2d4e559007adda31d2e7e0",
            "c18cea46b84d4152b664cc627758d38b",
            "0f6ca72b32004540bc184286b46b043f",
            "1b40ec15c5c94db68516ec07e893e926",
            "21c1c300c91549d28afd48940c49553b",
            "cd4340ae89ed4a3bb3160b5d247e6d07",
            "9c1be9e3b0d1431a86e7c71c89a11f87",
            "aa6de17b412046de8a5e182dd42b71fb",
            "c9e296ecbd8a4315815aedf089066bf5",
            "8b30518938d147188739a49229a3f2ad",
            "92ded31cd0714f708ba69484436030e1",
            "a421e770516d4116837b55400a75fc26",
            "9323803503cc4372a15f1dee3cb016e4",
            "c0706365ff284e9c8853924f8b9700d0",
            "2e33c50b02f34576b22d7ed7b11543f1",
            "f254363dd5fd4151ace1f4aead07d074",
            "0c83407e6daf4f039a1d56bfb3d7bea5",
            "ae62b24cb15e444d8ad509ccaaa623b9",
            "3d65a92c21c54094a66c6fe34ce224ed",
            "b8c74b63116545088b101e7645697c24",
            "75e935c8671c48f8a2977407187a6070",
            "6730e32c3d5e479889e5cdb248b90032"
          ]
        },
        "id": "TLo5rf4_2J0j",
        "outputId": "98d117ef-e3e8-4e89-8fb8-740c05efe27f"
      },
      "execution_count": 5,
      "outputs": [
        {
          "output_type": "stream",
          "name": "stdout",
          "text": [
            "正在構建向量索引...\n"
          ]
        },
        {
          "output_type": "display_data",
          "data": {
            "text/plain": [
              "Parsing nodes:   0%|          | 0/29 [00:00<?, ?it/s]"
            ],
            "application/vnd.jupyter.widget-view+json": {
              "version_major": 2,
              "version_minor": 0,
              "model_id": "ea19a55bde2d4e559007adda31d2e7e0"
            }
          },
          "metadata": {}
        },
        {
          "output_type": "display_data",
          "data": {
            "text/plain": [
              "Generating embeddings:   0%|          | 0/34 [00:00<?, ?it/s]"
            ],
            "application/vnd.jupyter.widget-view+json": {
              "version_major": 2,
              "version_minor": 0,
              "model_id": "a421e770516d4116837b55400a75fc26"
            }
          },
          "metadata": {}
        },
        {
          "output_type": "stream",
          "name": "stdout",
          "text": [
            "向量索引構建完成。\n",
            "查詢引擎建立完成: <llama_index.core.query_engine.retriever_query_engine.RetrieverQueryEngine object at 0x7eb768dcf0a0>\n"
          ]
        }
      ]
    },
    {
      "cell_type": "markdown",
      "source": [
        "## 向量資料庫"
      ],
      "metadata": {
        "id": "-Y-zfozMdqvF"
      }
    },
    {
      "cell_type": "code",
      "source": [
        "# 從儲存上下文中獲取檢索器\n",
        "retriever = index.as_retriever(search_kwargs={\"k\": 5})\n",
        "\n",
        "# 執行相似性檢索\n",
        "query = \"Describe the five roles in MetaGPT framework\"\n",
        "print(f\"正在執行相似性檢索: {query}\")\n",
        "similarity_context = retriever.retrieve(query)\n",
        "\n",
        "# 打印檢索到的相似內容\n",
        "print(\"\\n相似性上下文:\")\n",
        "for i, doc in enumerate(similarity_context, start=1):\n",
        "    print(f\"\\n--- Context {i} ---\")\n",
        "    print(doc.get_content())"
      ],
      "metadata": {
        "colab": {
          "base_uri": "https://localhost:8080/"
        },
        "id": "o8OtwZfUdszf",
        "outputId": "ce4a00d5-becf-444b-b6fc-c43a72bcfe8d"
      },
      "execution_count": 6,
      "outputs": [
        {
          "output_type": "stream",
          "name": "stdout",
          "text": [
            "正在執行相似性檢索: Describe the five roles in MetaGPT framework\n",
            "\n",
            "相似性上下文:\n",
            "\n",
            "--- Context 1 ---\n",
            "Published as a conference paper at ICLR 2024\n",
            "Figure 2: An example of the communication protocol (left) and iterative programming with exe-\n",
            "cutable feedback (right). Left: Agents use a shared message pool to publish structured messages.\n",
            "They can also subscribe to relevant messages based on their profiles. Right: After generating the\n",
            "initial code, the Engineer agent runs and checks for errors. If errors occur, the agent checks past\n",
            "messages stored in memory and compares them with the PRD, system design, and code files.\n",
            "3 M ETAGPT: A M ETA-PROGRAMMING FRAMEWORK\n",
            "MetaGPT is a meta-programming framework for LLM-based multi-agent systems. Sec. 3.1 pro-\n",
            "vides an explanation of role specialization, workflow and structured communication in this frame-\n",
            "work, and illustrates how to organize a multi-agent system within the context of SOPs. Sec. 3.2\n",
            "presents a communication protocol that enhances role communication efficiency. We also imple-\n",
            "ment structured communication interfaces and an effective publish-subscribe mechanism. These\n",
            "methods enable agents to obtain directional information from other roles and public information\n",
            "from the environment. Finally, we introduce executable feedback—a self-correction mechanism for\n",
            "further enhancing code generation quality during run-time in Sec. 3.3.\n",
            "3.1 A GENTS IN STANDARD OPERATING PROCEDURES\n",
            "Specialization of Roles Unambiguous role specialization enables the breakdown of complex work\n",
            "into smaller and more specific tasks. Solving complex tasks or problems often requires the collab-\n",
            "oration of agents with diverse skills and expertise, each contributing specialized outputs tailored to\n",
            "specific issues.\n",
            "In a software company, a Product Manager typically conducts business-oriented analysis and derives\n",
            "insights, while a software engineer is responsible for programming. We define five roles in our\n",
            "software company: Product Manager, Architect, Project Manager, Engineer, and QA Engineer, as\n",
            "shown in Figure 1. In MetaGPT, we specify the agent’s profile, which includes their name, profile,\n",
            "goal, and constraints for each role. We also initialize the specific context and skills for each role.\n",
            "For instance, a Product Manager can use web search tools, while an Engineer can execute code, as\n",
            "shown in Figure 2. All agents adhere to the React-style behavior as described in Yao et al. (2022).\n",
            "Every agent monitors the environment ( i.e., the message pool in MetaGPT) to spot important ob-\n",
            "servations (e.g.,, messages from other agents). These messages can either directly trigger actions or\n",
            "assist in finishing the job.\n",
            "Workflow across Agents By defining the agents’ roles and operational skills, we can establish\n",
            "basic workflows. In our work, we follow SOP in software development, which enables all agents to\n",
            "work in a sequential manner.\n",
            "4\n",
            "\n",
            "--- Context 2 ---\n",
            "Published as a conference paper at ICLR 2024\n",
            "Table 2: Comparison of capabilities for MetaGPT and other approaches. ‘!’ indicates the\n",
            "presence of a specific feature in the corresponding framework, ‘%’ its absence.\n",
            "Framework Capabiliy AutoGPT LangChain AgentVerse ChatDev MetaGPT\n",
            "PRD generation % % % % !\n",
            "Tenical design genenration % % % % !\n",
            "API interface generation % % % % !\n",
            "Code generation ! ! ! ! !\n",
            "Precompilation execution % % % % !\n",
            "Role-based task management % % % ! !\n",
            "Code review % % ! ! !\n",
            "Table 3: Ablation study on roles. ‘#’ denotes ‘The number of’, ‘Product’ denotes ‘Product man-\n",
            "ager’, and ‘Project’ denotes ‘Project manager’. ‘ !’ indicates the addition of a specific role. ‘Revi-\n",
            "sions’ refers to ‘Human Revision Cost’.\n",
            "Engineer Product Architect Project #Agents #Lines Expense Revisions Executability\n",
            "! % % % 1 83.0 $ 0.915 10 1.0\n",
            "! ! % % 2 112.0 $ 1.059 6.5 2.0\n",
            "! ! ! % 3 143.0 $ 1.204 4.0 2.5\n",
            "! ! % ! 3 205.0 $ 1.251 3.5 2.0\n",
            "! ! ! ! 4 191.0 $ 1.385 2.5 4.0\n",
            "can easily integrate SOP-like designs to improve their performance, similar to injecting chain-of-\n",
            "thought (Wei et al., 2022) in LLMs.\n",
            "4.4 A BLATION STUDY\n",
            "The Effectiveness of Roles To understand the impact of different roles on the final results, we\n",
            "perform two tasks that involve generating effective code and calculating average statistics. When we\n",
            "exclude certain roles, unworkable codes are generated. As indicated by Table 3, the addition of roles\n",
            "different from just the Engineer consistently improves both revisions and executability. While more\n",
            "roles slightly increase the expenses, the overall performance improves noticeably, demonstrating the\n",
            "effectiveness of the various roles.\n",
            "The Effectiveness of Executable Feedback Mechanism As shown in Figure 4, adding executable\n",
            "feedback into MetaGPT leads to a significant improvement of 4.2% and 5.4% in Pass @1on Hu-\n",
            "manEval and MBPP, respectively. Besides, Table 1 shows that the feedback mechanism improves\n",
            "feasibility (3.67 to 3.75) and reduces the cost of human revisions (2.25 to 0.83). These results\n",
            "illustrate how our designed feedback mechanism can produce higher-quality code. Additional quan-\n",
            "titative results of MetaGPT and MetaGPT without executable feedback are shown in Table 4 and\n",
            "Table 9.\n",
            "5 C ONCLUSION\n",
            "This work introduces MetaGPT, a novel meta-programming framework that leverages SOPs to en-\n",
            "hance the problem-solving capabilities of multi-agent systems based on Large Language Models\n",
            "(LLMs). MetaGPT models a group of agents as a simulated software company, analogous to simu-\n",
            "lated towns (Park et al., 2023) and the Minecraft Sandbox in V oyager (Wang et al., 2023a). MetaGPT\n",
            "leverages role specialization, workflow management, and efficient sharing mechanisms such as mes-\n",
            "sage pools and subscriptions, rendering it a flexible and portable platform for autonomous agents\n",
            "and multi-agent frameworks. It uses an executable feedback mechanism to enhance code generation\n",
            "quality during runtime. In extensive experiments, MetaGPT achieves state-of-the-art performance\n",
            "on multiple benchmarks. The successful integration of human-like SOPs inspires future research\n",
            "on human-inspired techniques for artificial multi-agent systems. We also view our work as an early\n",
            "attempt to regulate LLM-based multi-agent frameworks. See also the outlook (Appendix A).\n",
            "9\n"
          ]
        }
      ]
    },
    {
      "cell_type": "markdown",
      "source": [
        "## 開啟查詢"
      ],
      "metadata": {
        "id": "rczdm5me2w_y"
      }
    },
    {
      "cell_type": "code",
      "source": [
        "response = query_engine.query(\"What are the five roles in the MetaGPT framework?\")\n",
        "print(response)"
      ],
      "metadata": {
        "colab": {
          "base_uri": "https://localhost:8080/"
        },
        "id": "YdwCdkPQ3Ype",
        "outputId": "b0217137-1fe1-4bc5-9161-9add6c285a8a"
      },
      "execution_count": 7,
      "outputs": [
        {
          "output_type": "stream",
          "name": "stdout",
          "text": [
            "The five roles in the MetaGPT framework are Product Manager, Architect, Project Manager, Engineer, and QA Engineer.\n"
          ]
        }
      ]
    },
    {
      "cell_type": "code",
      "source": [
        "response = query_engine.query(\"說明 MetaGPT 框架中的五個角色\")\n",
        "print(response)"
      ],
      "metadata": {
        "colab": {
          "base_uri": "https://localhost:8080/"
        },
        "id": "rdRV2utQ3fCd",
        "outputId": "db460483-6feb-455c-e0af-7a4303c7014f"
      },
      "execution_count": 8,
      "outputs": [
        {
          "output_type": "stream",
          "name": "stdout",
          "text": [
            "MetaGPT 框架中定義了五個角色，分別是產品經理、架構師、項目經理、工程師和質量保證工程師。每個角色都有其特定的職責和技能，這樣的角色專業化使得複雜的工作可以分解為更小、更具體的任務。產品經理負責業務分析和洞察，工程師則專注於編程。這些角色的明確定義有助於在軟體開發過程中建立基本的工作流程，促進各角色之間的協作。\n"
          ]
        }
      ]
    },
    {
      "cell_type": "code",
      "source": [],
      "metadata": {
        "id": "TSV8TSCUCc1b"
      },
      "execution_count": null,
      "outputs": []
    }
  ]
}