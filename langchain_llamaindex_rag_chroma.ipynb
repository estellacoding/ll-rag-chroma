{
  "nbformat": 4,
  "nbformat_minor": 0,
  "metadata": {
    "colab": {
      "provenance": [],
      "toc_visible": true,
      "authorship_tag": "ABX9TyMWBlcmg6X9wkk4/o6EGE3Q",
      "include_colab_link": true
    },
    "kernelspec": {
      "name": "python3",
      "display_name": "Python 3"
    },
    "language_info": {
      "name": "python"
    },
    "widgets": {
      "application/vnd.jupyter.widget-state+json": {
        "86e0b23b919e4216bc162e4e22f8245e": {
          "model_module": "@jupyter-widgets/controls",
          "model_name": "HBoxModel",
          "model_module_version": "1.5.0",
          "state": {
            "_dom_classes": [],
            "_model_module": "@jupyter-widgets/controls",
            "_model_module_version": "1.5.0",
            "_model_name": "HBoxModel",
            "_view_count": null,
            "_view_module": "@jupyter-widgets/controls",
            "_view_module_version": "1.5.0",
            "_view_name": "HBoxView",
            "box_style": "",
            "children": [
              "IPY_MODEL_9c4bf79574344f2bacfbc1413040c044",
              "IPY_MODEL_ec845b1d5a594464b7c91e5baea07385",
              "IPY_MODEL_56b1f4b14509453da920a2e9237d9a00"
            ],
            "layout": "IPY_MODEL_6230d9061c2b43e680d499aee1a8951e"
          }
        },
        "9c4bf79574344f2bacfbc1413040c044": {
          "model_module": "@jupyter-widgets/controls",
          "model_name": "HTMLModel",
          "model_module_version": "1.5.0",
          "state": {
            "_dom_classes": [],
            "_model_module": "@jupyter-widgets/controls",
            "_model_module_version": "1.5.0",
            "_model_name": "HTMLModel",
            "_view_count": null,
            "_view_module": "@jupyter-widgets/controls",
            "_view_module_version": "1.5.0",
            "_view_name": "HTMLView",
            "description": "",
            "description_tooltip": null,
            "layout": "IPY_MODEL_da11c47825174a25b073ec430cdbd997",
            "placeholder": "​",
            "style": "IPY_MODEL_c91210696afd4e808ae80f41c0f76d0c",
            "value": "Parsing nodes: 100%"
          }
        },
        "ec845b1d5a594464b7c91e5baea07385": {
          "model_module": "@jupyter-widgets/controls",
          "model_name": "FloatProgressModel",
          "model_module_version": "1.5.0",
          "state": {
            "_dom_classes": [],
            "_model_module": "@jupyter-widgets/controls",
            "_model_module_version": "1.5.0",
            "_model_name": "FloatProgressModel",
            "_view_count": null,
            "_view_module": "@jupyter-widgets/controls",
            "_view_module_version": "1.5.0",
            "_view_name": "ProgressView",
            "bar_style": "success",
            "description": "",
            "description_tooltip": null,
            "layout": "IPY_MODEL_bed4a1e8a4d54f1d8e9ee75953a7dfe1",
            "max": 29,
            "min": 0,
            "orientation": "horizontal",
            "style": "IPY_MODEL_d785312fa66e4c839d08d880b747f06b",
            "value": 29
          }
        },
        "56b1f4b14509453da920a2e9237d9a00": {
          "model_module": "@jupyter-widgets/controls",
          "model_name": "HTMLModel",
          "model_module_version": "1.5.0",
          "state": {
            "_dom_classes": [],
            "_model_module": "@jupyter-widgets/controls",
            "_model_module_version": "1.5.0",
            "_model_name": "HTMLModel",
            "_view_count": null,
            "_view_module": "@jupyter-widgets/controls",
            "_view_module_version": "1.5.0",
            "_view_name": "HTMLView",
            "description": "",
            "description_tooltip": null,
            "layout": "IPY_MODEL_4fdaf36804b94a889bbc6d3cbba230ad",
            "placeholder": "​",
            "style": "IPY_MODEL_768a7c6f2882411daa3d8904fa9760c1",
            "value": " 29/29 [00:00&lt;00:00, 109.13it/s]"
          }
        },
        "6230d9061c2b43e680d499aee1a8951e": {
          "model_module": "@jupyter-widgets/base",
          "model_name": "LayoutModel",
          "model_module_version": "1.2.0",
          "state": {
            "_model_module": "@jupyter-widgets/base",
            "_model_module_version": "1.2.0",
            "_model_name": "LayoutModel",
            "_view_count": null,
            "_view_module": "@jupyter-widgets/base",
            "_view_module_version": "1.2.0",
            "_view_name": "LayoutView",
            "align_content": null,
            "align_items": null,
            "align_self": null,
            "border": null,
            "bottom": null,
            "display": null,
            "flex": null,
            "flex_flow": null,
            "grid_area": null,
            "grid_auto_columns": null,
            "grid_auto_flow": null,
            "grid_auto_rows": null,
            "grid_column": null,
            "grid_gap": null,
            "grid_row": null,
            "grid_template_areas": null,
            "grid_template_columns": null,
            "grid_template_rows": null,
            "height": null,
            "justify_content": null,
            "justify_items": null,
            "left": null,
            "margin": null,
            "max_height": null,
            "max_width": null,
            "min_height": null,
            "min_width": null,
            "object_fit": null,
            "object_position": null,
            "order": null,
            "overflow": null,
            "overflow_x": null,
            "overflow_y": null,
            "padding": null,
            "right": null,
            "top": null,
            "visibility": null,
            "width": null
          }
        },
        "da11c47825174a25b073ec430cdbd997": {
          "model_module": "@jupyter-widgets/base",
          "model_name": "LayoutModel",
          "model_module_version": "1.2.0",
          "state": {
            "_model_module": "@jupyter-widgets/base",
            "_model_module_version": "1.2.0",
            "_model_name": "LayoutModel",
            "_view_count": null,
            "_view_module": "@jupyter-widgets/base",
            "_view_module_version": "1.2.0",
            "_view_name": "LayoutView",
            "align_content": null,
            "align_items": null,
            "align_self": null,
            "border": null,
            "bottom": null,
            "display": null,
            "flex": null,
            "flex_flow": null,
            "grid_area": null,
            "grid_auto_columns": null,
            "grid_auto_flow": null,
            "grid_auto_rows": null,
            "grid_column": null,
            "grid_gap": null,
            "grid_row": null,
            "grid_template_areas": null,
            "grid_template_columns": null,
            "grid_template_rows": null,
            "height": null,
            "justify_content": null,
            "justify_items": null,
            "left": null,
            "margin": null,
            "max_height": null,
            "max_width": null,
            "min_height": null,
            "min_width": null,
            "object_fit": null,
            "object_position": null,
            "order": null,
            "overflow": null,
            "overflow_x": null,
            "overflow_y": null,
            "padding": null,
            "right": null,
            "top": null,
            "visibility": null,
            "width": null
          }
        },
        "c91210696afd4e808ae80f41c0f76d0c": {
          "model_module": "@jupyter-widgets/controls",
          "model_name": "DescriptionStyleModel",
          "model_module_version": "1.5.0",
          "state": {
            "_model_module": "@jupyter-widgets/controls",
            "_model_module_version": "1.5.0",
            "_model_name": "DescriptionStyleModel",
            "_view_count": null,
            "_view_module": "@jupyter-widgets/base",
            "_view_module_version": "1.2.0",
            "_view_name": "StyleView",
            "description_width": ""
          }
        },
        "bed4a1e8a4d54f1d8e9ee75953a7dfe1": {
          "model_module": "@jupyter-widgets/base",
          "model_name": "LayoutModel",
          "model_module_version": "1.2.0",
          "state": {
            "_model_module": "@jupyter-widgets/base",
            "_model_module_version": "1.2.0",
            "_model_name": "LayoutModel",
            "_view_count": null,
            "_view_module": "@jupyter-widgets/base",
            "_view_module_version": "1.2.0",
            "_view_name": "LayoutView",
            "align_content": null,
            "align_items": null,
            "align_self": null,
            "border": null,
            "bottom": null,
            "display": null,
            "flex": null,
            "flex_flow": null,
            "grid_area": null,
            "grid_auto_columns": null,
            "grid_auto_flow": null,
            "grid_auto_rows": null,
            "grid_column": null,
            "grid_gap": null,
            "grid_row": null,
            "grid_template_areas": null,
            "grid_template_columns": null,
            "grid_template_rows": null,
            "height": null,
            "justify_content": null,
            "justify_items": null,
            "left": null,
            "margin": null,
            "max_height": null,
            "max_width": null,
            "min_height": null,
            "min_width": null,
            "object_fit": null,
            "object_position": null,
            "order": null,
            "overflow": null,
            "overflow_x": null,
            "overflow_y": null,
            "padding": null,
            "right": null,
            "top": null,
            "visibility": null,
            "width": null
          }
        },
        "d785312fa66e4c839d08d880b747f06b": {
          "model_module": "@jupyter-widgets/controls",
          "model_name": "ProgressStyleModel",
          "model_module_version": "1.5.0",
          "state": {
            "_model_module": "@jupyter-widgets/controls",
            "_model_module_version": "1.5.0",
            "_model_name": "ProgressStyleModel",
            "_view_count": null,
            "_view_module": "@jupyter-widgets/base",
            "_view_module_version": "1.2.0",
            "_view_name": "StyleView",
            "bar_color": null,
            "description_width": ""
          }
        },
        "4fdaf36804b94a889bbc6d3cbba230ad": {
          "model_module": "@jupyter-widgets/base",
          "model_name": "LayoutModel",
          "model_module_version": "1.2.0",
          "state": {
            "_model_module": "@jupyter-widgets/base",
            "_model_module_version": "1.2.0",
            "_model_name": "LayoutModel",
            "_view_count": null,
            "_view_module": "@jupyter-widgets/base",
            "_view_module_version": "1.2.0",
            "_view_name": "LayoutView",
            "align_content": null,
            "align_items": null,
            "align_self": null,
            "border": null,
            "bottom": null,
            "display": null,
            "flex": null,
            "flex_flow": null,
            "grid_area": null,
            "grid_auto_columns": null,
            "grid_auto_flow": null,
            "grid_auto_rows": null,
            "grid_column": null,
            "grid_gap": null,
            "grid_row": null,
            "grid_template_areas": null,
            "grid_template_columns": null,
            "grid_template_rows": null,
            "height": null,
            "justify_content": null,
            "justify_items": null,
            "left": null,
            "margin": null,
            "max_height": null,
            "max_width": null,
            "min_height": null,
            "min_width": null,
            "object_fit": null,
            "object_position": null,
            "order": null,
            "overflow": null,
            "overflow_x": null,
            "overflow_y": null,
            "padding": null,
            "right": null,
            "top": null,
            "visibility": null,
            "width": null
          }
        },
        "768a7c6f2882411daa3d8904fa9760c1": {
          "model_module": "@jupyter-widgets/controls",
          "model_name": "DescriptionStyleModel",
          "model_module_version": "1.5.0",
          "state": {
            "_model_module": "@jupyter-widgets/controls",
            "_model_module_version": "1.5.0",
            "_model_name": "DescriptionStyleModel",
            "_view_count": null,
            "_view_module": "@jupyter-widgets/base",
            "_view_module_version": "1.2.0",
            "_view_name": "StyleView",
            "description_width": ""
          }
        },
        "b85fd49951604b28a3ed56a62d041d44": {
          "model_module": "@jupyter-widgets/controls",
          "model_name": "HBoxModel",
          "model_module_version": "1.5.0",
          "state": {
            "_dom_classes": [],
            "_model_module": "@jupyter-widgets/controls",
            "_model_module_version": "1.5.0",
            "_model_name": "HBoxModel",
            "_view_count": null,
            "_view_module": "@jupyter-widgets/controls",
            "_view_module_version": "1.5.0",
            "_view_name": "HBoxView",
            "box_style": "",
            "children": [
              "IPY_MODEL_d983748325ba445db18411c5ca96fc7e",
              "IPY_MODEL_bdf60a26b1bf4a5ab081ad123ac2f3cc",
              "IPY_MODEL_79ae718714184cd18cec92b2ac9142bf"
            ],
            "layout": "IPY_MODEL_88c43e5e175142eb9b4fea5553991e11"
          }
        },
        "d983748325ba445db18411c5ca96fc7e": {
          "model_module": "@jupyter-widgets/controls",
          "model_name": "HTMLModel",
          "model_module_version": "1.5.0",
          "state": {
            "_dom_classes": [],
            "_model_module": "@jupyter-widgets/controls",
            "_model_module_version": "1.5.0",
            "_model_name": "HTMLModel",
            "_view_count": null,
            "_view_module": "@jupyter-widgets/controls",
            "_view_module_version": "1.5.0",
            "_view_name": "HTMLView",
            "description": "",
            "description_tooltip": null,
            "layout": "IPY_MODEL_e0056d36ca0b4401a9c7661440789a42",
            "placeholder": "​",
            "style": "IPY_MODEL_a34e480186c045e6a628ff865b713f33",
            "value": "Generating embeddings: 100%"
          }
        },
        "bdf60a26b1bf4a5ab081ad123ac2f3cc": {
          "model_module": "@jupyter-widgets/controls",
          "model_name": "FloatProgressModel",
          "model_module_version": "1.5.0",
          "state": {
            "_dom_classes": [],
            "_model_module": "@jupyter-widgets/controls",
            "_model_module_version": "1.5.0",
            "_model_name": "FloatProgressModel",
            "_view_count": null,
            "_view_module": "@jupyter-widgets/controls",
            "_view_module_version": "1.5.0",
            "_view_name": "ProgressView",
            "bar_style": "success",
            "description": "",
            "description_tooltip": null,
            "layout": "IPY_MODEL_2652efc27a154ef39d8399545f841213",
            "max": 34,
            "min": 0,
            "orientation": "horizontal",
            "style": "IPY_MODEL_c6d6979594bd4cb0ae469cd7473ce8f5",
            "value": 34
          }
        },
        "79ae718714184cd18cec92b2ac9142bf": {
          "model_module": "@jupyter-widgets/controls",
          "model_name": "HTMLModel",
          "model_module_version": "1.5.0",
          "state": {
            "_dom_classes": [],
            "_model_module": "@jupyter-widgets/controls",
            "_model_module_version": "1.5.0",
            "_model_name": "HTMLModel",
            "_view_count": null,
            "_view_module": "@jupyter-widgets/controls",
            "_view_module_version": "1.5.0",
            "_view_name": "HTMLView",
            "description": "",
            "description_tooltip": null,
            "layout": "IPY_MODEL_d731acef8f5f4a2e9ea8a050f1a251c1",
            "placeholder": "​",
            "style": "IPY_MODEL_4257fb69eb584294b74d28e56fe5cc7d",
            "value": " 34/34 [00:02&lt;00:00, 13.30it/s]"
          }
        },
        "88c43e5e175142eb9b4fea5553991e11": {
          "model_module": "@jupyter-widgets/base",
          "model_name": "LayoutModel",
          "model_module_version": "1.2.0",
          "state": {
            "_model_module": "@jupyter-widgets/base",
            "_model_module_version": "1.2.0",
            "_model_name": "LayoutModel",
            "_view_count": null,
            "_view_module": "@jupyter-widgets/base",
            "_view_module_version": "1.2.0",
            "_view_name": "LayoutView",
            "align_content": null,
            "align_items": null,
            "align_self": null,
            "border": null,
            "bottom": null,
            "display": null,
            "flex": null,
            "flex_flow": null,
            "grid_area": null,
            "grid_auto_columns": null,
            "grid_auto_flow": null,
            "grid_auto_rows": null,
            "grid_column": null,
            "grid_gap": null,
            "grid_row": null,
            "grid_template_areas": null,
            "grid_template_columns": null,
            "grid_template_rows": null,
            "height": null,
            "justify_content": null,
            "justify_items": null,
            "left": null,
            "margin": null,
            "max_height": null,
            "max_width": null,
            "min_height": null,
            "min_width": null,
            "object_fit": null,
            "object_position": null,
            "order": null,
            "overflow": null,
            "overflow_x": null,
            "overflow_y": null,
            "padding": null,
            "right": null,
            "top": null,
            "visibility": null,
            "width": null
          }
        },
        "e0056d36ca0b4401a9c7661440789a42": {
          "model_module": "@jupyter-widgets/base",
          "model_name": "LayoutModel",
          "model_module_version": "1.2.0",
          "state": {
            "_model_module": "@jupyter-widgets/base",
            "_model_module_version": "1.2.0",
            "_model_name": "LayoutModel",
            "_view_count": null,
            "_view_module": "@jupyter-widgets/base",
            "_view_module_version": "1.2.0",
            "_view_name": "LayoutView",
            "align_content": null,
            "align_items": null,
            "align_self": null,
            "border": null,
            "bottom": null,
            "display": null,
            "flex": null,
            "flex_flow": null,
            "grid_area": null,
            "grid_auto_columns": null,
            "grid_auto_flow": null,
            "grid_auto_rows": null,
            "grid_column": null,
            "grid_gap": null,
            "grid_row": null,
            "grid_template_areas": null,
            "grid_template_columns": null,
            "grid_template_rows": null,
            "height": null,
            "justify_content": null,
            "justify_items": null,
            "left": null,
            "margin": null,
            "max_height": null,
            "max_width": null,
            "min_height": null,
            "min_width": null,
            "object_fit": null,
            "object_position": null,
            "order": null,
            "overflow": null,
            "overflow_x": null,
            "overflow_y": null,
            "padding": null,
            "right": null,
            "top": null,
            "visibility": null,
            "width": null
          }
        },
        "a34e480186c045e6a628ff865b713f33": {
          "model_module": "@jupyter-widgets/controls",
          "model_name": "DescriptionStyleModel",
          "model_module_version": "1.5.0",
          "state": {
            "_model_module": "@jupyter-widgets/controls",
            "_model_module_version": "1.5.0",
            "_model_name": "DescriptionStyleModel",
            "_view_count": null,
            "_view_module": "@jupyter-widgets/base",
            "_view_module_version": "1.2.0",
            "_view_name": "StyleView",
            "description_width": ""
          }
        },
        "2652efc27a154ef39d8399545f841213": {
          "model_module": "@jupyter-widgets/base",
          "model_name": "LayoutModel",
          "model_module_version": "1.2.0",
          "state": {
            "_model_module": "@jupyter-widgets/base",
            "_model_module_version": "1.2.0",
            "_model_name": "LayoutModel",
            "_view_count": null,
            "_view_module": "@jupyter-widgets/base",
            "_view_module_version": "1.2.0",
            "_view_name": "LayoutView",
            "align_content": null,
            "align_items": null,
            "align_self": null,
            "border": null,
            "bottom": null,
            "display": null,
            "flex": null,
            "flex_flow": null,
            "grid_area": null,
            "grid_auto_columns": null,
            "grid_auto_flow": null,
            "grid_auto_rows": null,
            "grid_column": null,
            "grid_gap": null,
            "grid_row": null,
            "grid_template_areas": null,
            "grid_template_columns": null,
            "grid_template_rows": null,
            "height": null,
            "justify_content": null,
            "justify_items": null,
            "left": null,
            "margin": null,
            "max_height": null,
            "max_width": null,
            "min_height": null,
            "min_width": null,
            "object_fit": null,
            "object_position": null,
            "order": null,
            "overflow": null,
            "overflow_x": null,
            "overflow_y": null,
            "padding": null,
            "right": null,
            "top": null,
            "visibility": null,
            "width": null
          }
        },
        "c6d6979594bd4cb0ae469cd7473ce8f5": {
          "model_module": "@jupyter-widgets/controls",
          "model_name": "ProgressStyleModel",
          "model_module_version": "1.5.0",
          "state": {
            "_model_module": "@jupyter-widgets/controls",
            "_model_module_version": "1.5.0",
            "_model_name": "ProgressStyleModel",
            "_view_count": null,
            "_view_module": "@jupyter-widgets/base",
            "_view_module_version": "1.2.0",
            "_view_name": "StyleView",
            "bar_color": null,
            "description_width": ""
          }
        },
        "d731acef8f5f4a2e9ea8a050f1a251c1": {
          "model_module": "@jupyter-widgets/base",
          "model_name": "LayoutModel",
          "model_module_version": "1.2.0",
          "state": {
            "_model_module": "@jupyter-widgets/base",
            "_model_module_version": "1.2.0",
            "_model_name": "LayoutModel",
            "_view_count": null,
            "_view_module": "@jupyter-widgets/base",
            "_view_module_version": "1.2.0",
            "_view_name": "LayoutView",
            "align_content": null,
            "align_items": null,
            "align_self": null,
            "border": null,
            "bottom": null,
            "display": null,
            "flex": null,
            "flex_flow": null,
            "grid_area": null,
            "grid_auto_columns": null,
            "grid_auto_flow": null,
            "grid_auto_rows": null,
            "grid_column": null,
            "grid_gap": null,
            "grid_row": null,
            "grid_template_areas": null,
            "grid_template_columns": null,
            "grid_template_rows": null,
            "height": null,
            "justify_content": null,
            "justify_items": null,
            "left": null,
            "margin": null,
            "max_height": null,
            "max_width": null,
            "min_height": null,
            "min_width": null,
            "object_fit": null,
            "object_position": null,
            "order": null,
            "overflow": null,
            "overflow_x": null,
            "overflow_y": null,
            "padding": null,
            "right": null,
            "top": null,
            "visibility": null,
            "width": null
          }
        },
        "4257fb69eb584294b74d28e56fe5cc7d": {
          "model_module": "@jupyter-widgets/controls",
          "model_name": "DescriptionStyleModel",
          "model_module_version": "1.5.0",
          "state": {
            "_model_module": "@jupyter-widgets/controls",
            "_model_module_version": "1.5.0",
            "_model_name": "DescriptionStyleModel",
            "_view_count": null,
            "_view_module": "@jupyter-widgets/base",
            "_view_module_version": "1.2.0",
            "_view_name": "StyleView",
            "description_width": ""
          }
        }
      }
    }
  },
  "cells": [
    {
      "cell_type": "markdown",
      "metadata": {
        "id": "view-in-github",
        "colab_type": "text"
      },
      "source": [
        "<a href=\"https://colab.research.google.com/github/estellacoding/ll-rag-chroma/blob/main/langchain_llamaindex_rag_chroma.ipynb\" target=\"_parent\"><img src=\"https://colab.research.google.com/assets/colab-badge.svg\" alt=\"Open In Colab\"/></a>"
      ]
    },
    {
      "cell_type": "markdown",
      "source": [
        "# LangChain RAG"
      ],
      "metadata": {
        "id": "Q7RwCHFjynb-"
      }
    },
    {
      "cell_type": "markdown",
      "source": [
        "## 安裝套件"
      ],
      "metadata": {
        "id": "EzZYX0-nULBr"
      }
    },
    {
      "cell_type": "code",
      "source": [
        "!pip install pypdf\n",
        "!pip install langchain_community\n",
        "!pip install langchain-openai\n",
        "!pip install langchain-chroma\n",
        "!pip install chromadb\n",
        "!pip install tiktoken"
      ],
      "metadata": {
        "id": "0gpZ6r8RO5iz"
      },
      "execution_count": null,
      "outputs": []
    },
    {
      "cell_type": "markdown",
      "source": [
        "## 下載資料"
      ],
      "metadata": {
        "id": "TDsljl3lOzUL"
      }
    },
    {
      "cell_type": "code",
      "execution_count": 2,
      "metadata": {
        "id": "jHgsj0CQ4JVw",
        "colab": {
          "base_uri": "https://localhost:8080/"
        },
        "outputId": "ffd6674f-0668-4eaa-eeb8-f18b49e02709"
      },
      "outputs": [
        {
          "output_type": "stream",
          "name": "stdout",
          "text": [
            "--2025-01-15 02:09:08--  https://openreview.net/pdf?id=VtmBAGCN7o\n",
            "Resolving openreview.net (openreview.net)... 35.184.86.251\n",
            "Connecting to openreview.net (openreview.net)|35.184.86.251|:443... connected.\n",
            "HTTP request sent, awaiting response... 200 OK\n",
            "Length: 16911937 (16M) [application/pdf]\n",
            "Saving to: ‘data/metagpt.pdf’\n",
            "\n",
            "data/metagpt.pdf    100%[===================>]  16.13M  7.73MB/s    in 2.1s    \n",
            "\n",
            "2025-01-15 02:09:11 (7.73 MB/s) - ‘data/metagpt.pdf’ saved [16911937/16911937]\n",
            "\n",
            "data  sample_data\n"
          ]
        }
      ],
      "source": [
        "!mkdir \"data\"\n",
        "!wget \"https://openreview.net/pdf?id=VtmBAGCN7o\" -O data/metagpt.pdf\n",
        "!ls"
      ]
    },
    {
      "cell_type": "markdown",
      "source": [
        "## 載入資料"
      ],
      "metadata": {
        "id": "_aonlUoFPTl_"
      }
    },
    {
      "cell_type": "code",
      "source": [
        "from langchain.document_loaders import PyPDFLoader\n",
        "from langchain.text_splitter import RecursiveCharacterTextSplitter\n",
        "\n",
        "loader = PyPDFLoader(\"./data/metagpt.pdf\")\n",
        "# 設定每片段長度為1000字元，重疊200字元\n",
        "text_splitter = RecursiveCharacterTextSplitter(chunk_size=500, chunk_overlap=200)\n",
        "pages = loader.load_and_split(text_splitter=text_splitter)\n",
        "\n",
        "print(pages[-1].page_content)"
      ],
      "metadata": {
        "id": "qjJcwz4ZNh6D",
        "colab": {
          "base_uri": "https://localhost:8080/"
        },
        "outputId": "c75fa506-ef27-4238-bf7b-50cc32fbb20c"
      },
      "execution_count": 3,
      "outputs": [
        {
          "output_type": "stream",
          "name": "stdout",
          "text": [
            "8 5.00 215.00 43.00 3.00 301.00 100.33 29372.00 6499.00 621.73 $ 1.27 1. tensorflow ver-\n",
            "sion error 2. model\n",
            "training method not\n",
            "implement\n",
            "2\n",
            "9 5.00 215.00 43.00 3.00 270.00 90.00 24799.00 5734.00 550.88 $ 1.27 1. dependency er-\n",
            "ror 2. URL 403 er-\n",
            "ror\n",
            "3\n",
            "10 3.00 93.00 31.00 3.00 254.00 84.67 24109.00 5363.00 438.50 $ 0.92 1. dependency er-\n",
            "ror 2. missing main\n",
            "func.\n",
            "4\n",
            "Avg. 4.71 191.57 42.98 3.00 240.00 80.00 26626.86 6218.00 516.71 $1.12 0.51 (only consider\n",
            "item scored 2, 3 or\n",
            "4)\n",
            "3.36\n",
            "29\n"
          ]
        }
      ]
    },
    {
      "cell_type": "markdown",
      "source": [
        "## 向量化"
      ],
      "metadata": {
        "id": "LoHxUMONT0Mv"
      }
    },
    {
      "cell_type": "code",
      "source": [
        "# 若資料夾存在則刪除\n",
        "import shutil\n",
        "import os\n",
        "\n",
        "if os.path.exists(\"./vector\"):\n",
        "    shutil.rmtree(\"./vector\")"
      ],
      "metadata": {
        "id": "vYefkNdIPl2a"
      },
      "execution_count": 4,
      "outputs": []
    },
    {
      "cell_type": "code",
      "source": [
        "# 文本 -> 分割/索引 -> 向量化 -> 建立資料庫 -> 儲存\n",
        "from langchain.indexes import VectorstoreIndexCreator\n",
        "from langchain_openai import OpenAIEmbeddings\n",
        "from langchain_chroma import Chroma\n",
        "\n",
        "from google.colab import userdata\n",
        "OPENAI_API_KEY = userdata.get('OPENAI_API_KEY')\n",
        "\n",
        "# 使用OpenAI的嵌入模型將文本轉換為嵌入向量\n",
        "embeddings = OpenAIEmbeddings(api_key=OPENAI_API_KEY)\n",
        "\n",
        "# 創建向量索引\n",
        "index_creator = VectorstoreIndexCreator(\n",
        "    embedding=embeddings,\n",
        "    vectorstore_cls=Chroma, # 設定向量資料庫\n",
        "    vectorstore_kwargs={\"persist_directory\": \"./vector\"}\n",
        ")\n",
        "\n",
        "# 從分割文檔(pages)進行文本分割、向量化及索引並儲存\n",
        "docsearch = index_creator.from_documents(pages)"
      ],
      "metadata": {
        "id": "asF09L1fWYLo"
      },
      "execution_count": 5,
      "outputs": []
    },
    {
      "cell_type": "markdown",
      "source": [
        "## 向量資料庫"
      ],
      "metadata": {
        "id": "GM-37HUYURRv"
      }
    },
    {
      "cell_type": "code",
      "source": [
        "from langchain_chroma import Chroma\n",
        "\n",
        "db = Chroma(embedding_function=embeddings, persist_directory='./vector')"
      ],
      "metadata": {
        "id": "JI6EIDKMm15Q"
      },
      "execution_count": 6,
      "outputs": []
    },
    {
      "cell_type": "code",
      "source": [
        "similarity_context = db.similarity_search(\"Describe the five roles in MetaGPT framework\", k=10)\n",
        "for doc in similarity_context:\n",
        "    print(\"-\"*66)\n",
        "    print(doc.page_content)"
      ],
      "metadata": {
        "colab": {
          "base_uri": "https://localhost:8080/"
        },
        "id": "9cESnqvSkPAQ",
        "outputId": "1e70f2fb-6c7e-431f-ced1-d71c0b2afb05"
      },
      "execution_count": 7,
      "outputs": [
        {
          "output_type": "stream",
          "name": "stdout",
          "text": [
            "------------------------------------------------------------------\n",
            "MetaGPT is a meta-programming framework for LLM-based multi-agent systems. Sec. 3.1 pro-\n",
            "vides an explanation of role specialization, workflow and structured communication in this frame-\n",
            "work, and illustrates how to organize a multi-agent system within the context of SOPs. Sec. 3.2\n",
            "presents a communication protocol that enhances role communication efficiency. We also imple-\n",
            "ment structured communication interfaces and an effective publish-subscribe mechanism. These\n",
            "------------------------------------------------------------------\n",
            "agents within the MetaGPT framework. This platform provides users with an operational interface,\n",
            "allowing users to easily manage a variety of agents with different emotions, personalities, and capa-\n",
            "bilities for specific tasks.\n",
            "16\n",
            "------------------------------------------------------------------\n",
            "Preprint\n",
            "• We introduce MetaGPT, a meta-programming framework for multi-agent collaboration based on\n",
            "LLMs. It is highly convenient and flexible, with well-defined functions like role definition and\n",
            "message sharing, making it a useful platform for developing LLM-based multi-agent systems.\n",
            "• Our innovative integration of human-like SOPs throughout MetaGPT’s design significantly en-\n",
            "hances its robustness, reducing unproductive collaboration among LLM-based agents. Furthermore,\n",
            "------------------------------------------------------------------\n",
            "titative results of MetaGPT and MetaGPT without executable feedback are shown in Table 4 and\n",
            "Table 9.\n",
            "5 C ONCLUSION\n",
            "This work introduces MetaGPT, a novel meta-programming framework that leverages SOPs to en-\n",
            "hance the problem-solving capabilities of multi-agent systems based on Large Language Models\n",
            "(LLMs). MetaGPT models a group of agents as a simulated software company, analogous to simu-\n",
            "lated towns (Park et al., 2023) and the Minecraft Sandbox in V oyager (Wang et al., 2023a). MetaGPT\n",
            "------------------------------------------------------------------\n",
            "(LLMs). MetaGPT models a group of agents as a simulated software company, analogous to simu-\n",
            "lated towns (Park et al., 2023) and the Minecraft Sandbox in V oyager (Wang et al., 2023a). MetaGPT\n",
            "leverages role specialization, workflow management, and efficient sharing mechanisms such as mes-\n",
            "sage pools and subscriptions, rendering it a flexible and portable platform for autonomous agents\n",
            "and multi-agent frameworks. It uses an executable feedback mechanism to enhance code generation\n",
            "------------------------------------------------------------------\n",
            "insights, while a software engineer is responsible for programming. We define five roles in our\n",
            "software company: Product Manager, Architect, Project Manager, Engineer, and QA Engineer, as\n",
            "shown in Figure 1. In MetaGPT, we specify the agent’s profile, which includes their name, profile,\n",
            "goal, and constraints for each role. We also initialize the specific context and skills for each role.\n",
            "For instance, a Product Manager can use web search tools, while an Engineer can execute code, as\n",
            "------------------------------------------------------------------\n",
            "et al., 2023). However, MetaGPT stands out as a unique solution that allows for efficient meta-\n",
            "programming through a well-organized group of specialized agents. Each agent has a specific role\n",
            "and expertise, following some established standards. This allows for automatic requirement analysis,\n",
            "system design, code generation, modification, execution, and debugging during runtime, highlight-\n",
            "ing how agent-based techniques can enhance meta-programming.\n",
            "------------------------------------------------------------------\n",
            "streamlined workflows, thus allowing agents with human-like domain expertise\n",
            "to verify intermediate results and reduce errors. MetaGPT utilizes an assembly\n",
            "line paradigm to assign diverse roles to various agents, efficiently breaking down\n",
            "complex tasks into subtasks involving many agents working together. On col-\n",
            "laborative software engineering benchmarks, MetaGPT generates more coherent\n",
            "solutions than previous chat-based multi-agent systems. Our project can be found\n",
            "------------------------------------------------------------------\n",
            "AgentVerse and ChatDev, MetaGPT offers functions for software engineering tasks. As presented\n",
            "in Table 2, our framework encompasses a wide range of abilities to handle complex and specialized\n",
            "development tasks efficiently. Incorporating SOPs (e.g., role-play expertise, structured communi-\n",
            "cation, streamlined workflow) can significantly improve code generation. Other baseline methods\n",
            "8\n",
            "------------------------------------------------------------------\n",
            "for programming-related positions. Furthermore, programming with natural language may offer a\n",
            "significantly easier learning curve, making programming more accessible to a broader audience.\n",
            "Transparency and Accountability MetaGPT is an open-source framework that facilitates inter-\n",
            "active communication between multiple agents through natural language. Humans can initiate, ob-\n",
            "serve, and stop running with the highest level of control. It provides real-time interpretation and op-\n"
          ]
        }
      ]
    },
    {
      "cell_type": "markdown",
      "source": [
        "## 開啟查詢"
      ],
      "metadata": {
        "id": "GSNpaG2jUUaQ"
      }
    },
    {
      "cell_type": "code",
      "source": [
        "from langchain_openai import ChatOpenAI\n",
        "from langchain_core.prompts import ChatPromptTemplate\n",
        "from langchain.chains.combine_documents import create_stuff_documents_chain\n",
        "from langchain.chains import create_retrieval_chain\n",
        "\n",
        "llm = ChatOpenAI(model=\"gpt-4o-mini\", openai_api_key=OPENAI_API_KEY)\n",
        "\n",
        "# 設置檢索器:檢索最相關的k段內容\n",
        "retriever = db.as_retriever(search_kwargs={\"k\": 100})\n",
        "\n",
        "system_prompt = (\n",
        "    \"你是一個專業的助理，請從給定內容中提取準確答案。\"\n",
        "    \"Context: {context}\"\n",
        ")\n",
        "prompt = ChatPromptTemplate.from_messages(\n",
        "    [\n",
        "        (\"system\", system_prompt),\n",
        "        (\"human\", \"{input}\"),\n",
        "    ]\n",
        ")\n",
        "\n",
        "# 創建處理文檔的鏈條\n",
        "question_answer_chain = create_stuff_documents_chain(llm, prompt)\n",
        "\n",
        "# 創建檢索鏈條\n",
        "chain = create_retrieval_chain(retriever, question_answer_chain)"
      ],
      "metadata": {
        "id": "IpWk_Jpjedf6"
      },
      "execution_count": 8,
      "outputs": []
    },
    {
      "cell_type": "code",
      "source": [
        "result = chain.invoke({\"input\": \"What are the five roles in the MetaGPT framework?\"})\n",
        "result['answer']"
      ],
      "metadata": {
        "colab": {
          "base_uri": "https://localhost:8080/",
          "height": 52
        },
        "id": "KXrFgN-XCnuh",
        "outputId": "e092606a-c67e-4071-b80a-ac50c6de6333"
      },
      "execution_count": 9,
      "outputs": [
        {
          "output_type": "execute_result",
          "data": {
            "text/plain": [
              "'The five roles in the MetaGPT framework are: Product Manager, Architect, Project Manager, Engineer, and QA Engineer.'"
            ],
            "application/vnd.google.colaboratory.intrinsic+json": {
              "type": "string"
            }
          },
          "metadata": {},
          "execution_count": 9
        }
      ]
    },
    {
      "cell_type": "code",
      "source": [
        "result = chain.invoke({\"input\": \"Describe the five roles in MetaGPT framework\"})\n",
        "result['answer']"
      ],
      "metadata": {
        "id": "D9Lof1-BVygM",
        "colab": {
          "base_uri": "https://localhost:8080/",
          "height": 157
        },
        "outputId": "2bc2aac4-1ac2-4277-a4ae-7bdebb53c166"
      },
      "execution_count": 10,
      "outputs": [
        {
          "output_type": "execute_result",
          "data": {
            "text/plain": [
              "'In the MetaGPT framework, the five roles defined are:\\n\\n1. **Product Manager**: Responsible for analyzing competition and user needs to create Product Requirements Documents (PRDs) that guide the developmental process.\\n\\n2. **Architect**: Focuses on system design, generating system interface designs and flow diagrams based on the PRDs provided by the Product Manager.\\n\\n3. **Project Manager**: Manages the overall project workflow and ensures that tasks are distributed effectively among team members.\\n\\n4. **Engineer**: Executes code based on the system design and PRDs, and is responsible for coding tasks and implementing functionalities.\\n\\n5. **QA Engineer**: Formulates test cases to ensure code quality and performs quality assurance checks on the produced software to validate its functionality and reliability.'"
            ],
            "application/vnd.google.colaboratory.intrinsic+json": {
              "type": "string"
            }
          },
          "metadata": {},
          "execution_count": 10
        }
      ]
    },
    {
      "cell_type": "code",
      "source": [
        "result = chain.invoke({\"input\": \"說明 MetaGPT 框架中的五個角色\"})\n",
        "result['answer']"
      ],
      "metadata": {
        "id": "kaKtnIQvacqN",
        "colab": {
          "base_uri": "https://localhost:8080/",
          "height": 122
        },
        "outputId": "3cbf67c9-3dba-478d-ab28-1c38a66ace3c"
      },
      "execution_count": 11,
      "outputs": [
        {
          "output_type": "execute_result",
          "data": {
            "text/plain": [
              "'MetaGPT 框架中的五個角色包括：\\n\\n1. **產品經理 (Product Manager)**：負責生成產品需求文檔 (PRD)，分析市場競爭和用戶需求，以指導開發過程。\\n\\n2. **架構師 (Architect)**：負責系統界面的設計，生成系統模塊設計和交互序列的文檔，確保系統的整體架構符合需求。\\n\\n3. **項目經理 (Project Manager)**：負責任務分配，協調各角色之間的合作，確保項目的順利進行。\\n\\n4. **工程師 (Engineer)**：負責根據設計文檔執行代碼，編寫實際的軟件解決方案，並進行測試和調試。\\n\\n5. **質量保證工程師 (QA Engineer)**：負責制定測試用例，檢查代碼的質量，確保最終產品符合規範和需求。 \\n\\n這些角色協同工作，通過標準化操作程序 (SOPs) 提升軟件開發的效率和質量。'"
            ],
            "application/vnd.google.colaboratory.intrinsic+json": {
              "type": "string"
            }
          },
          "metadata": {},
          "execution_count": 11
        }
      ]
    },
    {
      "cell_type": "markdown",
      "source": [
        "# Llamaindex RAG"
      ],
      "metadata": {
        "id": "h-Y4ncqV1rZ0"
      }
    },
    {
      "cell_type": "markdown",
      "source": [
        "## 安裝套件"
      ],
      "metadata": {
        "id": "WOel5O4E1zmS"
      }
    },
    {
      "cell_type": "code",
      "source": [
        "!pip install llama_index\n",
        "!pip install llama-index-embeddings-openai\n",
        "!pip install llama-index-vector-stores-chroma"
      ],
      "metadata": {
        "id": "y3HOfo0j1xgM"
      },
      "execution_count": null,
      "outputs": []
    },
    {
      "cell_type": "markdown",
      "source": [
        "## 下載資料"
      ],
      "metadata": {
        "id": "27KxTdKZ11s2"
      }
    },
    {
      "cell_type": "code",
      "source": [
        "!mkdir \"data\"\n",
        "!curl -L \"https://openreview.net/pdf?id=VtmBAGCN7o\" -e \"https://openreview.net/pdf?id=VtmBAGCN7o\" -o \"data/metagpt.pdf\"\n",
        "!ls"
      ],
      "metadata": {
        "colab": {
          "base_uri": "https://localhost:8080/"
        },
        "id": "6qefxOnn13LL",
        "outputId": "35f97820-ac54-4216-c5f7-edad0bebfb04"
      },
      "execution_count": 2,
      "outputs": [
        {
          "output_type": "stream",
          "name": "stdout",
          "text": [
            "  % Total    % Received % Xferd  Average Speed   Time    Time     Time  Current\n",
            "                                 Dload  Upload   Total   Spent    Left  Speed\n",
            "100 16.1M  100 16.1M    0     0  20.1M      0 --:--:-- --:--:-- --:--:-- 20.1M\n",
            "data  sample_data\n"
          ]
        }
      ]
    },
    {
      "cell_type": "markdown",
      "source": [
        "## 載入資料"
      ],
      "metadata": {
        "id": "8izrJKry1-83"
      }
    },
    {
      "cell_type": "code",
      "source": [
        "from llama_index.core import SimpleDirectoryReader\n",
        "\n",
        "# 讀取指定資料夾內的所有檔案\n",
        "documents = SimpleDirectoryReader(\"./data\").load_data(show_progress=True)\n",
        "print(\"載入的文件列表:\", documents[-1])"
      ],
      "metadata": {
        "colab": {
          "base_uri": "https://localhost:8080/"
        },
        "id": "1kaakNtf2IkN",
        "outputId": "cabd6821-61b9-4cac-e9f8-9ec0d92a8482"
      },
      "execution_count": 14,
      "outputs": [
        {
          "output_type": "stream",
          "name": "stderr",
          "text": [
            "Loading files: 100%|██████████| 1/1 [00:04<00:00,  5.00s/file]"
          ]
        },
        {
          "output_type": "stream",
          "name": "stdout",
          "text": [
            "載入的文件列表: Doc ID: e26de12a-1195-4742-8380-d3ab9dcb0407\n",
            "Text: Preprint Table 9: Additional results of pure MetaGPT w/o\n",
            "feedback on SoftwareDev. Averages (Avg.) of 70 tasks are calculated\n",
            "and 10 randomly selected tasks are included. ‘#’ denotes ‘The number\n",
            "of’, while ‘ID’ is ‘Task ID’. ID Code statistics Doc statistics Cost\n",
            "statistics Cost of revision Code executability #code files #lines of\n",
            "code #lines per...\n"
          ]
        },
        {
          "output_type": "stream",
          "name": "stderr",
          "text": [
            "\n"
          ]
        }
      ]
    },
    {
      "cell_type": "markdown",
      "source": [
        "## 向量化"
      ],
      "metadata": {
        "id": "upKpJWdH2I0C"
      }
    },
    {
      "cell_type": "code",
      "source": [
        "# 若資料夾存在則刪除\n",
        "import shutil\n",
        "import os\n",
        "\n",
        "if os.path.exists(\"./vector\"):\n",
        "    shutil.rmtree(\"./vector\")"
      ],
      "metadata": {
        "id": "gVoX72C6PyNI"
      },
      "execution_count": 4,
      "outputs": []
    },
    {
      "cell_type": "code",
      "source": [
        "from llama_index.embeddings.openai import OpenAIEmbedding\n",
        "import openai\n",
        "from llama_index.core import VectorStoreIndex\n",
        "from llama_index.core import Settings, PromptTemplate\n",
        "from llama_index.vector_stores.chroma import ChromaVectorStore\n",
        "from llama_index.core import StorageContext\n",
        "import chromadb\n",
        "from google.colab import userdata\n",
        "import os\n",
        "\n",
        "openai.api_key = userdata.get(\"OPENAI_API_KEY\")\n",
        "os.environ[\"OPENAI_API_KEY\"] = userdata.get(\"OPENAI_API_KEY\")\n",
        "\n",
        "# 使用OpenAI的嵌入模型將文本轉換為嵌入向量\n",
        "embed_model = OpenAIEmbedding(embed_batch_size=10)\n",
        "\n",
        "system_prompt = (\n",
        "    \"你是一個專業的助理，請從給定內容中提取準確答案。\"\n",
        "    \"{context}\"\n",
        ")\n",
        "prompt_template = PromptTemplate(system_prompt)\n",
        "\n",
        "# 設定Chroma向量資料庫\n",
        "db = chromadb.PersistentClient(path=\"./vector\")\n",
        "chroma_collection = db.get_or_create_collection(\"llamaindex_chroma\")\n",
        "vector_store = ChromaVectorStore(chroma_collection=chroma_collection)\n",
        "storage_context = StorageContext.from_defaults(vector_store=vector_store)\n",
        "\n",
        "# 建立向量索引，從文本文件(documents)生成的向量\n",
        "print(\"正在構建向量索引...\")\n",
        "index = VectorStoreIndex.from_documents(\n",
        "    documents,\n",
        "    storage_context=storage_context,\n",
        "    embed_model=embed_model,\n",
        "    show_progress=True,\n",
        ")\n",
        "print(\"向量索引構建完成。\")\n",
        "\n",
        "# 將索引轉換為查詢引擎\n",
        "query_engine = index.as_query_engine(prompt_template=prompt_template)\n",
        "print(\"查詢引擎建立完成:\", query_engine)"
      ],
      "metadata": {
        "colab": {
          "base_uri": "https://localhost:8080/",
          "height": 153,
          "referenced_widgets": [
            "86e0b23b919e4216bc162e4e22f8245e",
            "9c4bf79574344f2bacfbc1413040c044",
            "ec845b1d5a594464b7c91e5baea07385",
            "56b1f4b14509453da920a2e9237d9a00",
            "6230d9061c2b43e680d499aee1a8951e",
            "da11c47825174a25b073ec430cdbd997",
            "c91210696afd4e808ae80f41c0f76d0c",
            "bed4a1e8a4d54f1d8e9ee75953a7dfe1",
            "d785312fa66e4c839d08d880b747f06b",
            "4fdaf36804b94a889bbc6d3cbba230ad",
            "768a7c6f2882411daa3d8904fa9760c1",
            "b85fd49951604b28a3ed56a62d041d44",
            "d983748325ba445db18411c5ca96fc7e",
            "bdf60a26b1bf4a5ab081ad123ac2f3cc",
            "79ae718714184cd18cec92b2ac9142bf",
            "88c43e5e175142eb9b4fea5553991e11",
            "e0056d36ca0b4401a9c7661440789a42",
            "a34e480186c045e6a628ff865b713f33",
            "2652efc27a154ef39d8399545f841213",
            "c6d6979594bd4cb0ae469cd7473ce8f5",
            "d731acef8f5f4a2e9ea8a050f1a251c1",
            "4257fb69eb584294b74d28e56fe5cc7d"
          ]
        },
        "id": "TLo5rf4_2J0j",
        "outputId": "5e5fe582-56c3-4322-e082-9e0610614d83"
      },
      "execution_count": 5,
      "outputs": [
        {
          "output_type": "stream",
          "name": "stdout",
          "text": [
            "正在構建向量索引...\n"
          ]
        },
        {
          "output_type": "display_data",
          "data": {
            "text/plain": [
              "Parsing nodes:   0%|          | 0/29 [00:00<?, ?it/s]"
            ],
            "application/vnd.jupyter.widget-view+json": {
              "version_major": 2,
              "version_minor": 0,
              "model_id": "86e0b23b919e4216bc162e4e22f8245e"
            }
          },
          "metadata": {}
        },
        {
          "output_type": "display_data",
          "data": {
            "text/plain": [
              "Generating embeddings:   0%|          | 0/34 [00:00<?, ?it/s]"
            ],
            "application/vnd.jupyter.widget-view+json": {
              "version_major": 2,
              "version_minor": 0,
              "model_id": "b85fd49951604b28a3ed56a62d041d44"
            }
          },
          "metadata": {}
        },
        {
          "output_type": "stream",
          "name": "stdout",
          "text": [
            "向量索引構建完成。\n",
            "查詢引擎建立完成: <llama_index.core.query_engine.retriever_query_engine.RetrieverQueryEngine object at 0x7eebf67d45b0>\n"
          ]
        }
      ]
    },
    {
      "cell_type": "markdown",
      "source": [
        "## 向量資料庫"
      ],
      "metadata": {
        "id": "-Y-zfozMdqvF"
      }
    },
    {
      "cell_type": "code",
      "source": [
        "# 從存儲上下文中獲取檢索器\n",
        "retriever = index.as_retriever(search_kwargs={\"k\": 5})\n",
        "\n",
        "# 執行相似性檢索\n",
        "query = \"Describe the five roles in MetaGPT framework\"\n",
        "print(f\"正在執行相似性檢索: {query}\")\n",
        "similarity_context = retriever.retrieve(query)\n",
        "\n",
        "# 打印檢索到的相似內容\n",
        "print(\"\\n相似性上下文:\")\n",
        "for i, doc in enumerate(similarity_context, start=1):\n",
        "    print(f\"\\n--- Context {i} ---\")\n",
        "    print(doc.get_content())"
      ],
      "metadata": {
        "colab": {
          "base_uri": "https://localhost:8080/"
        },
        "id": "o8OtwZfUdszf",
        "outputId": "bfadf6db-c0a7-4da6-b225-5a4083042b8e"
      },
      "execution_count": 7,
      "outputs": [
        {
          "output_type": "stream",
          "name": "stdout",
          "text": [
            "正在執行相似性檢索: Describe the five roles in MetaGPT framework\n",
            "\n",
            "相似性上下文:\n",
            "\n",
            "--- Context 1 ---\n",
            "Preprint\n",
            "Table 2: Comparison of capabilities for MetaGPT and other approaches. ‘!’ indicates the\n",
            "presence of a specific feature in the corresponding framework, ‘%’ its absence.\n",
            "Framework Capabiliy AutoGPT LangChain AgentVerse ChatDev MetaGPT\n",
            "PRD generation % % % % !\n",
            "Tenical design genenration % % % % !\n",
            "API interface generation % % % % !\n",
            "Code generation ! ! ! ! !\n",
            "Precompilation execution % % % % !\n",
            "Role-based task management % % % ! !\n",
            "Code review % % ! ! !\n",
            "Table 3: Ablation study on roles. ‘#’ denotes ‘The number of’, ‘Product’ denotes ‘Product man-\n",
            "ager’, and ‘Project’ denotes ‘Project manager’. ‘ !’ indicates the addition of a specific role. ‘Revi-\n",
            "sions’ refers to ‘Human Revision Cost’.\n",
            "Engineer Product Architect Project #Agents #Lines Expense Revisions Executability\n",
            "! % % % 1 83.0 $ 0.915 10 1.0\n",
            "! ! % % 2 112.0 $ 1.059 6.5 2.0\n",
            "! ! ! % 3 143.0 $ 1.204 4.0 2.5\n",
            "! ! % ! 3 205.0 $ 1.251 3.5 2.0\n",
            "! ! ! ! 4 191.0 $ 1.385 2.5 4.0\n",
            "can easily integrate SOP-like designs to improve their performance, similar to injecting chain-of-\n",
            "thought (Wei et al., 2022) in LLMs.\n",
            "4.4 A BLATION STUDY\n",
            "The Effectiveness of Roles To understand the impact of different roles on the final results, we\n",
            "perform two tasks that involve generating effective code and calculating average statistics. When we\n",
            "exclude certain roles, unworkable codes are generated. As indicated by Table 3, the addition of roles\n",
            "different from just the Engineer consistently improves both revisions and executability. While more\n",
            "roles slightly increase the expenses, the overall performance improves noticeably, demonstrating the\n",
            "effectiveness of the various roles.\n",
            "The Effectiveness of Executable Feedback Mechanism As shown in Figure 4, adding executable\n",
            "feedback into MetaGPT leads to a significant improvement of 4.2% and 5.4% in Pass @1on Hu-\n",
            "manEval and MBPP, respectively. Besides, Table 1 shows that the feedback mechanism improves\n",
            "feasibility (3.67 to 3.75) and reduces the cost of human revisions (2.25 to 0.83). These results\n",
            "illustrate how our designed feedback mechanism can produce higher-quality code. Additional quan-\n",
            "titative results of MetaGPT and MetaGPT without executable feedback are shown in Table 4 and\n",
            "Table 9.\n",
            "5 C ONCLUSION\n",
            "This work introduces MetaGPT, a novel meta-programming framework that leverages SOPs to en-\n",
            "hance the problem-solving capabilities of multi-agent systems based on Large Language Models\n",
            "(LLMs). MetaGPT models a group of agents as a simulated software company, analogous to simu-\n",
            "lated towns (Park et al., 2023) and the Minecraft Sandbox in V oyager (Wang et al., 2023a). MetaGPT\n",
            "leverages role specialization, workflow management, and efficient sharing mechanisms such as mes-\n",
            "sage pools and subscriptions, rendering it a flexible and portable platform for autonomous agents\n",
            "and multi-agent frameworks. It uses an executable feedback mechanism to enhance code generation\n",
            "quality during runtime. In extensive experiments, MetaGPT achieves state-of-the-art performance\n",
            "on multiple benchmarks. The successful integration of human-like SOPs inspires future research\n",
            "on human-inspired techniques for artificial multi-agent systems. We also view our work as an early\n",
            "attempt to regulate LLM-based multi-agent frameworks. See also the outlook (Appendix A).\n",
            "9\n",
            "\n",
            "--- Context 2 ---\n",
            "Preprint\n",
            "Figure 2: An example of the communication protocol (left) and iterative programming with exe-\n",
            "cutable feedback (right). Left: Agents use a shared message pool to publish structured messages.\n",
            "They can also subscribe to relevant messages based on their profiles. Right: After generating the\n",
            "initial code, the Engineer agent runs and checks for errors. If errors occur, the agent checks past\n",
            "messages stored in memory and compares them with the PRD, system design, and code files.\n",
            "3 M ETAGPT: A M ETA-PROGRAMMING FRAMEWORK\n",
            "MetaGPT is a meta-programming framework for LLM-based multi-agent systems. Sec. 3.1 pro-\n",
            "vides an explanation of role specialization, workflow and structured communication in this frame-\n",
            "work, and illustrates how to organize a multi-agent system within the context of SOPs. Sec. 3.2\n",
            "presents a communication protocol that enhances role communication efficiency. We also imple-\n",
            "ment structured communication interfaces and an effective publish-subscribe mechanism. These\n",
            "methods enable agents to obtain directional information from other roles and public information\n",
            "from the environment. Finally, we introduce executable feedback—a self-correction mechanism for\n",
            "further enhancing code generation quality during run-time in Sec. 3.3.\n",
            "3.1 A GENTS IN STANDARD OPERATING PROCEDURES\n",
            "Specialization of Roles Unambiguous role specialization enables the breakdown of complex work\n",
            "into smaller and more specific tasks. Solving complex tasks or problems often requires the collab-\n",
            "oration of agents with diverse skills and expertise, each contributing specialized outputs tailored to\n",
            "specific issues.\n",
            "In a software company, a Product Manager typically conducts business-oriented analysis and derives\n",
            "insights, while a software engineer is responsible for programming. We define five roles in our\n",
            "software company: Product Manager, Architect, Project Manager, Engineer, and QA Engineer, as\n",
            "shown in Figure 1. In MetaGPT, we specify the agent’s profile, which includes their name, profile,\n",
            "goal, and constraints for each role. We also initialize the specific context and skills for each role.\n",
            "For instance, a Product Manager can use web search tools, while an Engineer can execute code, as\n",
            "shown in Figure 2. All agents adhere to the React-style behavior as described in Yao et al. (2022).\n",
            "Every agent monitors the environment ( i.e., the message pool in MetaGPT) to spot important ob-\n",
            "servations (e.g.,, messages from other agents). These messages can either directly trigger actions or\n",
            "assist in finishing the job.\n",
            "Workflow across Agents By defining the agents’ roles and operational skills, we can establish\n",
            "basic workflows. In our work, we follow SOP in software development, which enables all agents to\n",
            "work in a sequential manner.\n",
            "4\n"
          ]
        }
      ]
    },
    {
      "cell_type": "markdown",
      "source": [
        "## 開啟查詢"
      ],
      "metadata": {
        "id": "rczdm5me2w_y"
      }
    },
    {
      "cell_type": "code",
      "source": [
        "response = query_engine.query(\"What are the five roles in the MetaGPT framework?\")\n",
        "print(response)"
      ],
      "metadata": {
        "colab": {
          "base_uri": "https://localhost:8080/"
        },
        "id": "YdwCdkPQ3Ype",
        "outputId": "fcad6770-06b6-4f7a-97a4-081a4e2f77d0"
      },
      "execution_count": 8,
      "outputs": [
        {
          "output_type": "stream",
          "name": "stdout",
          "text": [
            "Product Manager, Architect, Project Manager, Engineer, QA Engineer\n"
          ]
        }
      ]
    },
    {
      "cell_type": "code",
      "source": [
        "response = query_engine.query(\"說明 MetaGPT 框架中的五個角色\")\n",
        "print(response)"
      ],
      "metadata": {
        "colab": {
          "base_uri": "https://localhost:8080/"
        },
        "id": "rdRV2utQ3fCd",
        "outputId": "1102478b-081c-494d-b910-72f440c66699"
      },
      "execution_count": 9,
      "outputs": [
        {
          "output_type": "stream",
          "name": "stdout",
          "text": [
            "MetaGPT框架中的五個角色是產品經理（Product Manager）、架構師（Architect）、專案經理（Project Manager）、工程師（Engineer）和品質保證工程師（QA Engineer）。每個角色在框架中有特定的設定，包括他們的名稱、設定、目標和約束，並為每個角色初始化特定的上下文和技能。例如，產品經理可以使用網絡搜索工具，而工程師可以執行代碼。在MetaGPT中，所有代理都遵循React風格的行為。每個代理監控環境（即MetaGPT中的消息池）以發現重要的觀察結果，這些消息可以直接觸發操作或幫助完成工作。\n"
          ]
        }
      ]
    },
    {
      "cell_type": "code",
      "source": [],
      "metadata": {
        "id": "TSV8TSCUCc1b"
      },
      "execution_count": null,
      "outputs": []
    }
  ]
}